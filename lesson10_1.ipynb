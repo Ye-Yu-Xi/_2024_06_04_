{
 "cells": [
  {
   "cell_type": "code",
   "execution_count": null,
   "metadata": {},
   "outputs": [],
   "source": [
    "#10-1課堂重點 叫入外部csv檔  with as語法 轉成python資料結構"
   ]
  },
  {
   "cell_type": "code",
   "execution_count": null,
   "metadata": {},
   "outputs": [],
   "source": [
    "file = open(\"names.txt\",encoding=\"utf-8\")       #用終端機看筆數\n",
    "print(file.read())      #read是實體方法\n",
    "file.close()            #叫入file最後一定要關閉"
   ]
  },
  {
   "cell_type": "code",
   "execution_count": null,
   "metadata": {},
   "outputs": [],
   "source": [
    "with open(\"names.txt\",encoding=\"utf-8\") as file:  #with as這方法是自動關閉，就可以不用多加最後的close   方法1\n",
    "    names = file.read()     #read是實體方法\n",
    "names.split('\\n')     #name是字串 split是實體方法 依據\\n幫我做切割 傳出list\n",
    "names_list = names.split('\\n')\n",
    "for name in names_list:\n",
    "    print(name)     #用終端機看"
   ]
  },
  {
   "cell_type": "code",
   "execution_count": null,
   "metadata": {},
   "outputs": [],
   "source": [
    "###重要！上面程式區塊 在做把文字檔變成python的資料結構 後續就可以操控它了###"
   ]
  },
  {
   "cell_type": "code",
   "execution_count": 18,
   "metadata": {},
   "outputs": [
    {
     "data": {
      "text/plain": [
       "(['陳怡伶', '馮芳如', '蒙淑惠', '張軒宸', '陳向愛'], ['李淑芳', '謝南慧', '趙家豪', '龐皓芳', '張彥博'], 299)"
      ]
     },
     "execution_count": 18,
     "metadata": {},
     "output_type": "execute_result"
    }
   ],
   "source": [
    "names_list[:5],names_list[-5:], len(names_list)   #len會傳出多少個元素 共299筆"
   ]
  },
  {
   "cell_type": "code",
   "execution_count": null,
   "metadata": {},
   "outputs": [],
   "source": [
    "with open(\"names.txt\",encoding=\"utf-8\") as file:  #同上上的程式區塊結果 只是方法不一樣，方法2\n",
    "    names_list = []\n",
    "    for line in file:\n",
    "        names_list.append(line[:3])\n",
    "    \n",
    "file.closed  #如果傳出True 表示它被關閉了\n",
    "names_list"
   ]
  },
  {
   "cell_type": "code",
   "execution_count": 27,
   "metadata": {},
   "outputs": [
    {
     "data": {
      "text/plain": [
       "299"
      ]
     },
     "execution_count": 27,
     "metadata": {},
     "output_type": "execute_result"
    }
   ],
   "source": [
    "len(names_list)  #len是內建的  "
   ]
  },
  {
   "cell_type": "code",
   "execution_count": 47,
   "metadata": {},
   "outputs": [
    {
     "name": "stdout",
     "output_type": "stream",
     "text": [
      "葉建豪\n",
      "葉淑芬\n",
      "葉慈啟\n",
      "葉芳如\n"
     ]
    }
   ],
   "source": [
    "import random     #random不是內建，不是實體  #序列就是老師說的list #1:46:00\n",
    "first_name = input(\"請輸入您的姓:\")\n",
    "count = int(input(\"請輸入您要的筆數:\"))\n",
    "random_names = random.choices(names_list,k=count)    #K=要抓幾個(預設是一個)\n",
    "for name in random_names:\n",
    "    print(first_name + name[-2:])                     #name是字串，要抓後2個"
   ]
  },
  {
   "cell_type": "code",
   "execution_count": null,
   "metadata": {},
   "outputs": [],
   "source": [
    "#2:03:23"
   ]
  }
 ],
 "metadata": {
  "kernelspec": {
   "display_name": "Python 3",
   "language": "python",
   "name": "python3"
  },
  "language_info": {
   "codemirror_mode": {
    "name": "ipython",
    "version": 3
   },
   "file_extension": ".py",
   "mimetype": "text/x-python",
   "name": "python",
   "nbconvert_exporter": "python",
   "pygments_lexer": "ipython3",
   "version": "3.10.14"
  }
 },
 "nbformat": 4,
 "nbformat_minor": 2
}
