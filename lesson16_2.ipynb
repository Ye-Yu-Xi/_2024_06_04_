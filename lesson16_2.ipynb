{
 "cells": [
  {
   "cell_type": "code",
   "execution_count": 5,
   "metadata": {},
   "outputs": [
    {
     "data": {
      "text/plain": [
       "統編\n",
       "99611344             鴻輝食品廠\n",
       "99604192       廣達香食品股份有限公司\n",
       "99613990             順發糧食行\n",
       "99600477      台灣塩野香料股份有限公司\n",
       "99606467      圓金釀造食品股份有限公司\n",
       "                 ...      \n",
       "65007117    元茂農產企業股份有限公司二廠\n",
       "65007172         萬寶客股份有限公司\n",
       "65007211          昆帝食品有限公司\n",
       "65007246       嚐鱻食品有限公司板橋廠\n",
       "65007247          崴欣國際有限公司\n",
       "Name: 新北市食品工廠統編, Length: 1232, dtype: object"
      ]
     },
     "execution_count": 5,
     "metadata": {},
     "output_type": "execute_result"
    }
   ],
   "source": [
    "import csv   #csv有模組,所以要import\n",
    "import pandas as pd\n",
    "with open (\"新北市食品工廠清冊.csv\",mode='r',encoding='utf-8',newline='') as file:\n",
    "    csv_reader = csv.reader(file)\n",
    "    next(csv_reader)   #第一行不要，從下一行開始載入\n",
    "    #for row in csv_reader:\n",
    "    #    print(row[2],row[1])  #顯示索引編號2、1的資料\n",
    "\n",
    "    sdata ={row[2]:row[1] for row in csv_reader}   #建立dict,row[2]=\"key\" : row[1]=\"value\"\n",
    "\n",
    "stores = pd.Series(sdata)            #dict轉乘Series\n",
    "stores.name=\"新北市食品工廠統編\"\n",
    "stores.index.name= \"統編\"\n",
    "stores\n",
    "#老師說dict一般不會轉成Series,會直接轉成DataFrame"
   ]
  }
 ],
 "metadata": {
  "kernelspec": {
   "display_name": "Python 3",
   "language": "python",
   "name": "python3"
  },
  "language_info": {
   "codemirror_mode": {
    "name": "ipython",
    "version": 3
   },
   "file_extension": ".py",
   "mimetype": "text/x-python",
   "name": "python",
   "nbconvert_exporter": "python",
   "pygments_lexer": "ipython3",
   "version": "3.10.14"
  }
 },
 "nbformat": 4,
 "nbformat_minor": 2
}
