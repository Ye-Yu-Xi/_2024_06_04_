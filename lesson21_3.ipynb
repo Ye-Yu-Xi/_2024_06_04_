{
 "cells": [
  {
   "cell_type": "code",
   "execution_count": null,
   "metadata": {},
   "outputs": [],
   "source": [
    "#Series和DataFrame的連結"
   ]
  },
  {
   "cell_type": "code",
   "execution_count": null,
   "metadata": {},
   "outputs": [],
   "source": [
    "#1:38:20~1:41:00觀念講解 ~ 1:42:30\n",
    "import numpy as np\n",
    "import pandas as pd\n",
    "\n",
    "s1 = pd.Series([0,1], index=['a','b'])\n",
    "display(s1)\n",
    "s2 = pd.Series([2, 3, 4], index=['c', 'd', 'e'])\n",
    "display(s2)\n",
    "s3 = pd.Series([5,6], index=['f','g'])\n",
    "display(s3)"
   ]
  },
  {
   "cell_type": "code",
   "execution_count": null,
   "metadata": {},
   "outputs": [],
   "source": [
    "#1:42:30\n",
    "#UC筆記:字串連結\n",
    "pd.concat([s1,s2,s3])"
   ]
  },
  {
   "cell_type": "code",
   "execution_count": null,
   "metadata": {},
   "outputs": [],
   "source": [
    "#1:43:50~1:44:45\n",
    "pd.concat([s1,s2,s3],axis=1)  #由欄(橫的)做連接"
   ]
  },
  {
   "cell_type": "code",
   "execution_count": null,
   "metadata": {},
   "outputs": [],
   "source": [
    "#1:47:45\n",
    "df1 = pd.DataFrame(np.arange(6).reshape(3, 2),\n",
    "                   index=['a', 'b', 'c'],\n",
    "                   columns=['one','two'])\n",
    "display(df1)\n",
    "df2 = pd.DataFrame(np.arange(4).reshape(2, 2),\n",
    "                   index=['a', 'c'],\n",
    "                   columns=['three','four'])\n",
    "display(df2)"
   ]
  },
  {
   "cell_type": "code",
   "execution_count": null,
   "metadata": {},
   "outputs": [],
   "source": [
    "pd.concat([df1, df2],axis=1)"
   ]
  },
  {
   "cell_type": "code",
   "execution_count": null,
   "metadata": {},
   "outputs": [],
   "source": [
    "pd.concat([df1, df2],axis=1,keys=['台北','台南'])"
   ]
  },
  {
   "cell_type": "code",
   "execution_count": null,
   "metadata": {},
   "outputs": [],
   "source": [
    "#1:50:20\n",
    "df1 = pd.DataFrame(np.random.randn(3, 4), columns=['a', 'b', 'c', 'd'])\n",
    "display(df1)\n",
    "df2 = pd.DataFrame(np.random.randn(2, 3), columns=['b', 'd', 'a'])\n",
    "display(df2)\n",
    "\n",
    "pd.concat([df1, df2])   #合起來索引為0、1、2、0、0、1，我不想讓它重複，可用下面的方法重新排列索引編號"
   ]
  },
  {
   "cell_type": "code",
   "execution_count": null,
   "metadata": {},
   "outputs": [],
   "source": [
    "#1:52:15~1:52:50    \n",
    "pd.concat([df1, df2],ignore_index=True) #ignore_index預設=False #索引重新排列 "
   ]
  },
  {
   "cell_type": "code",
   "execution_count": null,
   "metadata": {},
   "outputs": [],
   "source": [
    "#1:55:40~ #複製20_3\n",
    "import yfinance as yf\n",
    "data =yf.download(\"2330.TW\", start=\"2022-01-01\",end=\"2022-12-31\") #近一個月的股票 #2330台積電\n",
    "tw2330 =  data[[\"Adj Close\"]]  #2:03:16   #Adj Close收盤價\n",
    "tw2330.columns = [\"台積電\"]\n",
    "tw2330"
   ]
  },
  {
   "cell_type": "code",
   "execution_count": null,
   "metadata": {},
   "outputs": [],
   "source": [
    "data =yf.download(\"2303.TW\", start=\"2022-01-01\",end=\"2022-12-31\") \n",
    "tw2303 =  data[[\"Adj Close\"]]\n",
    "tw2303.columns = [\"聯電\"]\n",
    "tw2303"
   ]
  },
  {
   "cell_type": "code",
   "execution_count": null,
   "metadata": {},
   "outputs": [],
   "source": [
    "# ~1:58:00\n",
    "pd.concat([tw2330,tw2303],axis=1) #用欄連結"
   ]
  }
 ],
 "metadata": {
  "kernelspec": {
   "display_name": "Python 3",
   "language": "python",
   "name": "python3"
  },
  "language_info": {
   "codemirror_mode": {
    "name": "ipython",
    "version": 3
   },
   "file_extension": ".py",
   "mimetype": "text/x-python",
   "name": "python",
   "nbconvert_exporter": "python",
   "pygments_lexer": "ipython3",
   "version": "3.10.14"
  }
 },
 "nbformat": 4,
 "nbformat_minor": 2
}
