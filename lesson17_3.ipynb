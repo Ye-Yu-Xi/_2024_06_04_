{
 "cells": [
  {
   "cell_type": "code",
   "execution_count": null,
   "metadata": {},
   "outputs": [],
   "source": [
    "#17-3 學習Series的索引呼叫"
   ]
  },
  {
   "cell_type": "code",
   "execution_count": 8,
   "metadata": {},
   "outputs": [
    {
     "data": {
      "text/plain": [
       "0     黃心航\n",
       "1     黃翔杰\n",
       "2     李淑芳\n",
       "3     林淑安\n",
       "4     張婕妤\n",
       "5     黃柏宇\n",
       "6     黃詩妃\n",
       "7     蔡至剛\n",
       "8     吳明妮\n",
       "9     翁鈺婷\n",
       "10    吳麗卿\n",
       "11    陳淑娟\n",
       "12    陳慧君\n",
       "13    王雅琴\n",
       "14    謝哲維\n",
       "15    楊易政\n",
       "16    王士銘\n",
       "17    朱彥志\n",
       "18    陳俊憲\n",
       "19    郎慧萍\n",
       "20    溫重意\n",
       "21    林瑞喬\n",
       "22    翁均安\n",
       "23    鄭孟芳\n",
       "24    潘俊賢\n",
       "25    黎惠雯\n",
       "26    余宗儒\n",
       "27    張牧聿\n",
       "28    鄭琇亞\n",
       "29    林向鈺\n",
       "30    游一鈺\n",
       "31    黃奎紹\n",
       "32    趙宛真\n",
       "33    郭致恬\n",
       "34    黎惠雯\n",
       "35    李政成\n",
       "36    陳怡容\n",
       "37    臧怡君\n",
       "38    杜儀鳳\n",
       "39    杜明延\n",
       "40    林珍旺\n",
       "41    楊易政\n",
       "42    葉祖雄\n",
       "43    鍾俞禎\n",
       "44    林怡偉\n",
       "45    楊少亮\n",
       "46    蔡嘉音\n",
       "47    林昱芳\n",
       "48    郭淑真\n",
       "49    李蓉瑞\n",
       "Name: 姓名, dtype: object"
      ]
     },
     "execution_count": 8,
     "metadata": {},
     "output_type": "execute_result"
    }
   ],
   "source": [
    "import pandas as pd\n",
    "df = pd.read_csv('學生成績.csv')   #讀取csv檔(在別的地方存取,別的地方叫出)\n",
    "#dateFrame的subscript\n",
    "name_s = df[\"姓名\"]    #會傳出新的Series\n"
   ]
  },
  {
   "cell_type": "code",
   "execution_count": 10,
   "metadata": {},
   "outputs": [
    {
     "data": {
      "text/plain": [
       "0     黃心航\n",
       "1     黃翔杰\n",
       "2     李淑芳\n",
       "3     林淑安\n",
       "4     張婕妤\n",
       "5     黃柏宇\n",
       "6     黃詩妃\n",
       "7     蔡至剛\n",
       "8     吳明妮\n",
       "9     翁鈺婷\n",
       "10    吳麗卿\n",
       "11    陳淑娟\n",
       "12    陳慧君\n",
       "13    王雅琴\n",
       "14    謝哲維\n",
       "15    楊易政\n",
       "16    王士銘\n",
       "17    朱彥志\n",
       "18    陳俊憲\n",
       "19    郎慧萍\n",
       "20    溫重意\n",
       "21    林瑞喬\n",
       "22    翁均安\n",
       "23    鄭孟芳\n",
       "24    潘俊賢\n",
       "25    黎惠雯\n",
       "26    余宗儒\n",
       "27    張牧聿\n",
       "28    鄭琇亞\n",
       "29    林向鈺\n",
       "30    游一鈺\n",
       "31    黃奎紹\n",
       "32    趙宛真\n",
       "33    郭致恬\n",
       "34    黎惠雯\n",
       "35    李政成\n",
       "36    陳怡容\n",
       "37    臧怡君\n",
       "38    杜儀鳳\n",
       "39    杜明延\n",
       "40    林珍旺\n",
       "41    楊易政\n",
       "42    葉祖雄\n",
       "43    鍾俞禎\n",
       "44    林怡偉\n",
       "45    楊少亮\n",
       "46    蔡嘉音\n",
       "47    林昱芳\n",
       "48    郭淑真\n",
       "49    李蓉瑞\n",
       "Name: 姓名, dtype: object"
      ]
     },
     "metadata": {},
     "output_type": "display_data"
    },
    {
     "data": {
      "text/plain": [
       "'黃心航'"
      ]
     },
     "metadata": {},
     "output_type": "display_data"
    },
    {
     "name": "stdout",
     "output_type": "stream",
     "text": [
      "=============\n"
     ]
    },
    {
     "data": {
      "text/plain": [
       "0    黃心航\n",
       "1    黃翔杰\n",
       "2    李淑芳\n",
       "Name: 姓名, dtype: object"
      ]
     },
     "metadata": {},
     "output_type": "display_data"
    },
    {
     "name": "stdout",
     "output_type": "stream",
     "text": [
      "=============\n"
     ]
    },
    {
     "data": {
      "text/plain": [
       "47    林昱芳\n",
       "48    郭淑真\n",
       "49    李蓉瑞\n",
       "Name: 姓名, dtype: object"
      ]
     },
     "metadata": {},
     "output_type": "display_data"
    },
    {
     "name": "stdout",
     "output_type": "stream",
     "text": [
      "=============\n"
     ]
    },
    {
     "data": {
      "text/plain": [
       "0    黃心航\n",
       "5    黃柏宇\n",
       "8    吳明妮\n",
       "Name: 姓名, dtype: object"
      ]
     },
     "metadata": {},
     "output_type": "display_data"
    }
   ],
   "source": [
    "#Series的subscript\n",
    "display(name_s)\n",
    "display(name_s[0])       #呼叫索引編號0的名字\n",
    "print(\"=============\")\n",
    "display(name_s[:3])      #呼叫前3位的名字\n",
    "print(\"=============\")\n",
    "display(name_s[-3:])     #呼叫倒數3位的名字\n",
    "print(\"=============\")\n",
    "display(name_s[[0,5,8]])  #呼叫0,5,8的名字, 裡面還要加list[]"
   ]
  }
 ],
 "metadata": {
  "kernelspec": {
   "display_name": "Python 3",
   "language": "python",
   "name": "python3"
  },
  "language_info": {
   "codemirror_mode": {
    "name": "ipython",
    "version": 3
   },
   "file_extension": ".py",
   "mimetype": "text/x-python",
   "name": "python",
   "nbconvert_exporter": "python",
   "pygments_lexer": "ipython3",
   "version": "3.10.14"
  }
 },
 "nbformat": 4,
 "nbformat_minor": 2
}
