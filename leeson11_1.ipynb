{
 "cells": [
  {
   "cell_type": "code",
   "execution_count": 6,
   "metadata": {},
   "outputs": [
    {
     "data": {
      "text/plain": [
       "[['黃志福', 96, 96, 98, 78, 70],\n",
       " ['王展人', 92, 76, 96, 94, 78],\n",
       " ['張雅芬', 97, 62, 97, 56, 100],\n",
       " ['陳建香', 76, 67, 96, 81, 61],\n",
       " ['吳晴洋', 93, 96, 53, 100, 67],\n",
       " ['林怡偉', 82, 67, 83, 56, 68],\n",
       " ['黃旻林', 91, 85, 94, 80, 86],\n",
       " ['吳淑惠', 59, 76, 70, 74, 78],\n",
       " ['張婕妤', 92, 83, 98, 79, 78],\n",
       " ['陳建豪', 85, 61, 96, 58, 74],\n",
       " ['劉雯芬', 68, 51, 84, 58, 85],\n",
       " ['謝水儒', 82, 99, 54, 97, 56],\n",
       " ['黃奎紹', 68, 96, 73, 80, 60],\n",
       " ['高俊男', 59, 82, 79, 63, 78],\n",
       " ['黃柏宇', 95, 65, 97, 92, 70],\n",
       " ['葉軍仰', 50, 72, 86, 68, 65],\n",
       " ['艾巧夫', 53, 73, 91, 86, 54],\n",
       " ['林詠斌', 90, 79, 50, 54, 67],\n",
       " ['黃善迪', 54, 54, 62, 64, 94],\n",
       " ['鄧淑娟', 65, 82, 61, 61, 62],\n",
       " ['林怡偉', 74, 60, 96, 100, 76],\n",
       " ['蔡偉成', 78, 76, 70, 100, 56],\n",
       " ['王志謙', 80, 95, 90, 90, 67],\n",
       " ['陳樂紫', 92, 57, 97, 86, 97],\n",
       " ['蔡士賢', 88, 75, 59, 82, 81],\n",
       " ['杜儀鳳', 88, 99, 79, 94, 88],\n",
       " ['程玫靖', 97, 69, 76, 79, 89],\n",
       " ['張韋成', 98, 93, 58, 51, 78],\n",
       " ['艾巧夫', 81, 62, 77, 76, 86],\n",
       " ['林思賢', 72, 89, 54, 56, 72]]"
      ]
     },
     "execution_count": 6,
     "metadata": {},
     "output_type": "execute_result"
    }
   ],
   "source": [
    "import random\n",
    "def get_score() -> list :\n",
    "    score = []\n",
    "    for i in range(5):\n",
    "        score.append(random.randint(50, 100))   #list裡有個實體方法append\n",
    "    return score\n",
    "\n",
    "nums_int =int(input(\"請輸入學生數:\"))\n",
    "#取得nums_int個姓名\n",
    "with open('names.txt',encoding='utf-8',newline='') as file:\n",
    "    names_str = file.read()\n",
    "    all_names_list = names_str.split(sep=\"\\n\")\n",
    "    names_list = random.choices(all_names_list,k=nums_int) #取出一定數量的姓名\n",
    "\n",
    "\n",
    "students = []\n",
    "for i in range(nums_int):\n",
    "    scores = get_score()\n",
    "    new_list = [names_list[i]] + scores\n",
    "    students.append(new_list)\n",
    "students\n"
   ]
  },
  {
   "cell_type": "code",
   "execution_count": null,
   "metadata": {},
   "outputs": [],
   "source": [
    "['楊緯停'] + [88, 77, 63, 82,]"
   ]
  }
 ],
 "metadata": {
  "kernelspec": {
   "display_name": "Python 3",
   "language": "python",
   "name": "python3"
  },
  "language_info": {
   "codemirror_mode": {
    "name": "ipython",
    "version": 3
   },
   "file_extension": ".py",
   "mimetype": "text/x-python",
   "name": "python",
   "nbconvert_exporter": "python",
   "pygments_lexer": "ipython3",
   "version": "3.10.14"
  }
 },
 "nbformat": 4,
 "nbformat_minor": 2
}
