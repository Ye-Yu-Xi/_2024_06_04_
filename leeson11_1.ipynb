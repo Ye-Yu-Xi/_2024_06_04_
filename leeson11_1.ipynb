{
 "cells": [
  {
   "cell_type": "code",
   "execution_count": 6,
   "metadata": {},
   "outputs": [
    {
     "name": "stdout",
     "output_type": "stream",
     "text": [
      "['陳倩潔', '戴萱能', '盧必妍', '鄭奇翰', '戴萱能']\n"
     ]
    },
    {
     "data": {
      "text/plain": [
       "[[53, 51, 63, 82, 59],\n",
       " [89, 61, 86, 59, 93],\n",
       " [82, 61, 74, 96, 86],\n",
       " [95, 51, 90, 51, 86],\n",
       " [58, 79, 80, 67, 98]]"
      ]
     },
     "execution_count": 6,
     "metadata": {},
     "output_type": "execute_result"
    }
   ],
   "source": [
    "import random\n",
    "def get_score() -> list :\n",
    "    score = []\n",
    "    for i in range(5):\n",
    "        score.append(random.randint(50, 100))   #list裡有個實體方法append\n",
    "    return score\n",
    "\n",
    "nums_int =int(input(\"請輸入學生數:\"))\n",
    "#取得30個姓名\n",
    "with open('names.txt',encoding='utf-8',newline='') as file:\n",
    "    names_str = file.read()\n",
    "    all_names_list = names_str.split(sep=\"\\n\")\n",
    "    names_list = random.choices(all_names_list,k=nums_int) #取出一定數量的姓名\n",
    "print(names_list)\n",
    "students = []\n",
    "for _ in range(nums_int):\n",
    "    scores = get_score()\n",
    "    students.append(scores)\n",
    "students\n"
   ]
  }
 ],
 "metadata": {
  "kernelspec": {
   "display_name": "Python 3",
   "language": "python",
   "name": "python3"
  },
  "language_info": {
   "codemirror_mode": {
    "name": "ipython",
    "version": 3
   },
   "file_extension": ".py",
   "mimetype": "text/x-python",
   "name": "python",
   "nbconvert_exporter": "python",
   "pygments_lexer": "ipython3",
   "version": "3.10.14"
  }
 },
 "nbformat": 4,
 "nbformat_minor": 2
}
