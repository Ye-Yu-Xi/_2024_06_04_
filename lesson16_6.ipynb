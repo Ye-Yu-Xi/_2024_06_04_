{
 "cells": [
  {
   "cell_type": "code",
   "execution_count": 4,
   "metadata": {},
   "outputs": [],
   "source": [
    "#2:2:30\n",
    "#11_3.ipynb"
   ]
  },
  {
   "cell_type": "code",
   "execution_count": 7,
   "metadata": {},
   "outputs": [
    {
     "data": {
      "text/plain": [
       "[['蘇婷婷', 53, 92, 66, 86, 90],\n",
       " ['陳筱涵', 70, 88, 99, 60, 73],\n",
       " ['陳倩妮', 73, 91, 70, 96, 98],\n",
       " ['邱亭君', 95, 80, 65, 59, 66],\n",
       " ['黃靜怡', 78, 71, 57, 80, 69],\n",
       " ['簡國瑋', 80, 56, 52, 77, 56],\n",
       " ['陳志偉', 59, 78, 57, 89, 69],\n",
       " ['游倫城', 71, 69, 98, 52, 79],\n",
       " ['王德城', 88, 100, 92, 95, 63],\n",
       " ['孫宜珊', 53, 99, 98, 100, 56],\n",
       " ['陳逸華', 73, 69, 76, 53, 74],\n",
       " ['簡美君', 59, 54, 83, 92, 93],\n",
       " ['馮淑芬', 86, 81, 68, 76, 66],\n",
       " ['昌嘉洋', 53, 53, 99, 78, 78],\n",
       " ['鞠冠宇', 83, 72, 74, 82, 97],\n",
       " ['葉志峰', 52, 72, 70, 52, 82],\n",
       " ['黃名明', 89, 56, 63, 84, 80],\n",
       " ['林義皓', 93, 88, 76, 60, 74],\n",
       " ['劉慧君', 84, 91, 77, 87, 89],\n",
       " ['吳麗卿', 74, 61, 65, 77, 53],\n",
       " ['郭舜昇', 100, 55, 92, 68, 88],\n",
       " ['孫宜珊', 91, 84, 91, 57, 59],\n",
       " ['蕭淑華', 87, 71, 73, 93, 67],\n",
       " ['劉慧君', 88, 56, 60, 68, 75],\n",
       " ['陳文賢', 68, 66, 75, 81, 70],\n",
       " ['林群清', 52, 51, 77, 75, 93],\n",
       " ['周芷蓁', 75, 84, 61, 78, 100],\n",
       " ['陳孝邦', 82, 88, 60, 66, 99],\n",
       " ['王士銘', 96, 92, 73, 63, 90],\n",
       " ['蕭淑華', 51, 62, 88, 71, 87],\n",
       " ['劉慧君', 85, 81, 94, 98, 85],\n",
       " ['陳志偉', 57, 86, 66, 81, 75],\n",
       " ['鍾俞禎', 84, 82, 83, 84, 61],\n",
       " ['林志成', 96, 78, 58, 61, 75],\n",
       " ['蔡偉成', 72, 53, 84, 95, 85],\n",
       " ['余月修', 78, 84, 68, 56, 92],\n",
       " ['余月修', 82, 95, 76, 63, 55],\n",
       " ['盧冠發', 70, 56, 92, 98, 60],\n",
       " ['陳樂紫', 61, 57, 86, 75, 70],\n",
       " ['張凱妮', 61, 90, 97, 52, 54],\n",
       " ['蔡世馨', 82, 69, 60, 65, 57],\n",
       " ['洪阿惠', 70, 92, 55, 93, 72],\n",
       " ['蕭怡伶', 81, 77, 93, 58, 96],\n",
       " ['林士凱', 58, 67, 59, 61, 84],\n",
       " ['黃江旭', 66, 94, 78, 86, 95],\n",
       " ['陳向愛', 91, 92, 70, 79, 68],\n",
       " ['陳得映', 81, 86, 58, 79, 79],\n",
       " ['鄭孟芳', 76, 50, 52, 79, 56],\n",
       " ['蔡偉成', 56, 70, 96, 56, 51],\n",
       " ['艾巧夫', 88, 55, 94, 83, 61]]"
      ]
     },
     "execution_count": 7,
     "metadata": {},
     "output_type": "execute_result"
    }
   ],
   "source": [
    "import random\n",
    "def get_score() -> list:       #會取得1個學生的分數\n",
    "    score = []\n",
    "    for i in range(5):\n",
    "        score.append(random.randint(50, 100))   #list裡有個實體方法append\n",
    "    return score\n",
    "\n",
    "def get_names(nums:int) -> list:  #會取得所有學生的名稱\n",
    "    with open('names.txt',encoding='utf-8',newline='') as file:\n",
    "        names_str = file.read()\n",
    "        all_names_list = names_str.split(sep=\"\\n\")\n",
    "        names_list = random.choices(all_names_list,k=nums) #取出一定數量的姓名\n",
    "        return names_list\n",
    "    \n",
    "nums_int =int(input(\"請輸入學生數:\"))\n",
    "#取得nums_int個姓名\n",
    "names_list = get_names(nums_int)\n",
    "students = []\n",
    "for i in range(nums_int):\n",
    "    scores = get_score()\n",
    "    new_list = [names_list[i]] + scores    #二維list\n",
    "    students.append(new_list)\n",
    "students"
   ]
  },
  {
   "cell_type": "code",
   "execution_count": null,
   "metadata": {},
   "outputs": [],
   "source": []
  }
 ],
 "metadata": {
  "kernelspec": {
   "display_name": "Python 3",
   "language": "python",
   "name": "python3"
  },
  "language_info": {
   "codemirror_mode": {
    "name": "ipython",
    "version": 3
   },
   "file_extension": ".py",
   "mimetype": "text/x-python",
   "name": "python",
   "nbconvert_exporter": "python",
   "pygments_lexer": "ipython3",
   "version": "3.10.14"
  }
 },
 "nbformat": 4,
 "nbformat_minor": 2
}
