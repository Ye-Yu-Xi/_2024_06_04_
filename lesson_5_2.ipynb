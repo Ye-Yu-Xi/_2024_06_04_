{
 "cells": [
  {
   "cell_type": "code",
   "execution_count": null,
   "metadata": {},
   "outputs": [],
   "source": [
    "#for...in...  明確知道執行的次數\n",
    "#while 不知道知道執行的次數\n",
    "#for 變數名稱 in range/list/dict/set  ←ra/..../set，統稱iterable 可以重復讀寫(訪問)的"
   ]
  },
  {
   "cell_type": "code",
   "execution_count": 1,
   "metadata": {},
   "outputs": [
    {
     "name": "stdout",
     "output_type": "stream",
     "text": [
      "0\n",
      "1\n",
      "2\n",
      "3\n",
      "4\n"
     ]
    }
   ],
   "source": [
    "for i in range(5): #range(5)代表產生一個範圍，0~4(不包含5)，執行5次。\n",
    "    print(i)"
   ]
  },
  {
   "cell_type": "code",
   "execution_count": 2,
   "metadata": {},
   "outputs": [
    {
     "name": "stdout",
     "output_type": "stream",
     "text": [
      "1\n",
      "2\n",
      "3\n",
      "4\n"
     ]
    }
   ],
   "source": [
    "for i in range(1,5): #range(1,5)代表產生一個範圍，1~4，不包含5 (預設+1)\n",
    "    print(i)"
   ]
  },
  {
   "cell_type": "code",
   "execution_count": 4,
   "metadata": {},
   "outputs": [
    {
     "name": "stdout",
     "output_type": "stream",
     "text": [
      "1\n",
      "3\n",
      "5\n",
      "7\n",
      "9\n"
     ]
    }
   ],
   "source": [
    "for i in range(1,10,2): #range(1,10,2)代表從1開始，加2，加到10的範圍以內最高數，例：1,3,5,7,9\n",
    "    print(i)"
   ]
  },
  {
   "cell_type": "code",
   "execution_count": 7,
   "metadata": {},
   "outputs": [
    {
     "name": "stdout",
     "output_type": "stream",
     "text": [
      "加到100的加總為5050\n"
     ]
    }
   ],
   "source": [
    "#0~100的加總\n",
    "total =0\n",
    "for i in range(1,101): \n",
    "    total += i      #1+2+3+4+5+6+7+8+9+10....100=5050\n",
    "    \n",
    "print(f\"加到100的加總為{total}\")\n"
   ]
  },
  {
   "cell_type": "code",
   "execution_count": 15,
   "metadata": {},
   "outputs": [],
   "source": [
    "end = int(input(\"1加到多少的數值\"))\n",
    "total =0\n",
    "for i in range(1,end+1): \n",
    "    total += i      \n",
    "    \n",
    "print(f\"加到{end}的加總為{total}\")"
   ]
  },
  {
   "cell_type": "code",
   "execution_count": 12,
   "metadata": {},
   "outputs": [
    {
     "name": "stdout",
     "output_type": "stream",
     "text": [
      "15加到45的加總為930\n"
     ]
    }
   ],
   "source": [
    "start = int(input(\"start的數值\"))\n",
    "end = int(input(\"結束的數值\"))\n",
    "total =0\n",
    "for i in range(start,end+1): \n",
    "    total += i      \n",
    "    \n",
    "print(f\"{start}加到{end}的加總為{total}\")"
   ]
  }
 ],
 "metadata": {
  "kernelspec": {
   "display_name": "Python 3",
   "language": "python",
   "name": "python3"
  },
  "language_info": {
   "codemirror_mode": {
    "name": "ipython",
    "version": 3
   },
   "file_extension": ".py",
   "mimetype": "text/x-python",
   "name": "python",
   "nbconvert_exporter": "python",
   "pygments_lexer": "ipython3",
   "version": "3.10.14"
  }
 },
 "nbformat": 4,
 "nbformat_minor": 2
}
