{
 "cells": [
  {
   "cell_type": "code",
   "execution_count": null,
   "metadata": {},
   "outputs": [],
   "source": [
    "#第五堂之2重點:\n",
    "#for...in...  明確知道執行的次數\n",
    "#for 變數名稱 in range/list/dict/set  ←ra/..../set，統稱iterable 可以重復讀寫(訪問)的"
   ]
  },
  {
   "cell_type": "code",
   "execution_count": 1,
   "metadata": {},
   "outputs": [
    {
     "name": "stdout",
     "output_type": "stream",
     "text": [
      "0\n",
      "1\n",
      "2\n",
      "3\n",
      "4\n"
     ]
    }
   ],
   "source": [
    "for i in range(5): #range(5)代表產生一個範圍，0~4(不包含5)，執行5次。\n",
    "    print(i)"
   ]
  },
  {
   "cell_type": "code",
   "execution_count": 2,
   "metadata": {},
   "outputs": [
    {
     "name": "stdout",
     "output_type": "stream",
     "text": [
      "1\n",
      "2\n",
      "3\n",
      "4\n"
     ]
    }
   ],
   "source": [
    "for i in range(1,5): #range(1,5)代表產生一個範圍，1~4，不包含5，執行4次。(預設每次+1)\n",
    "    print(i)"
   ]
  },
  {
   "cell_type": "code",
   "execution_count": 4,
   "metadata": {},
   "outputs": [
    {
     "name": "stdout",
     "output_type": "stream",
     "text": [
      "1\n",
      "3\n",
      "5\n",
      "7\n",
      "9\n"
     ]
    }
   ],
   "source": [
    "for i in range(1,10,2): #range(1,10,2)代表從1開始，加2，加到10的範圍以內最高數，例：1,3,5,7,9\n",
    "    print(i)"
   ]
  },
  {
   "cell_type": "code",
   "execution_count": 7,
   "metadata": {},
   "outputs": [
    {
     "name": "stdout",
     "output_type": "stream",
     "text": [
      "加到100的加總為5050\n"
     ]
    }
   ],
   "source": [
    "#0~100的加總\n",
    "total =0\n",
    "for i in range(1,101): \n",
    "    total += i      #1+2+3+4+5+6+7+8+9+10....100=5050\n",
    "    \n",
    "print(f\"加到100的加總為{total}\")\n"
   ]
  },
  {
   "cell_type": "code",
   "execution_count": 15,
   "metadata": {},
   "outputs": [
    {
     "name": "stdout",
     "output_type": "stream",
     "text": [
      "加到5的加總為15\n"
     ]
    }
   ],
   "source": [
    "end = int(input(\"1加到多少的數值\"))\n",
    "total =0\n",
    "for i in range(1,end+1): \n",
    "    total += i      \n",
    "    \n",
    "print(f\"加到{end}的加總為{total}\")"
   ]
  },
  {
   "cell_type": "code",
   "execution_count": 12,
   "metadata": {},
   "outputs": [
    {
     "name": "stdout",
     "output_type": "stream",
     "text": [
      "15加到45的加總為930\n"
     ]
    }
   ],
   "source": [
    "start = int(input(\"start的數值\"))\n",
    "end = int(input(\"結束的數值\"))\n",
    "total =0\n",
    "for i in range(start,end+1): \n",
    "    total += i      \n",
    "    \n",
    "print(f\"{start}加到{end}的加總為{total}\")"
   ]
  },
  {
   "cell_type": "code",
   "execution_count": 17,
   "metadata": {},
   "outputs": [
    {
     "name": "stdout",
     "output_type": "stream",
     "text": [
      "1加到100偶數的加總為2550\n",
      "1加到100偶數的加總為2500\n"
     ]
    }
   ],
   "source": [
    "#1~100，偶數的加總\n",
    "#1~100，奇數的加總\n",
    "evenTotal =0\n",
    "oddTotal =0\n",
    "\n",
    "for i in range(1,101):\n",
    "    if i % 2 == 0:\n",
    "        evenTotal += i\n",
    "    else:\n",
    "       oddTotal += i\n",
    "print(f\"1加到100偶數的加總為{evenTotal}\")\n",
    "print(f\"1加到100偶數的加總為{oddTotal}\")\n"
   ]
  },
  {
   "cell_type": "code",
   "execution_count": 1,
   "metadata": {},
   "outputs": [
    {
     "name": "stdout",
     "output_type": "stream",
     "text": [
      "i=1\n",
      "j=1 j=2 j=3 j=4 j=5 j=6 j=7 j=8 j=9 \n",
      "i=2\n",
      "j=1 j=2 j=3 j=4 j=5 j=6 j=7 j=8 j=9 \n",
      "i=3\n",
      "j=1 j=2 j=3 j=4 j=5 j=6 j=7 j=8 j=9 \n",
      "i=4\n",
      "j=1 j=2 j=3 j=4 j=5 j=6 j=7 j=8 j=9 \n",
      "i=5\n",
      "j=1 j=2 j=3 j=4 j=5 j=6 j=7 j=8 j=9 \n",
      "i=6\n",
      "j=1 j=2 j=3 j=4 j=5 j=6 j=7 j=8 j=9 \n",
      "i=7\n",
      "j=1 j=2 j=3 j=4 j=5 j=6 j=7 j=8 j=9 \n",
      "i=8\n",
      "j=1 j=2 j=3 j=4 j=5 j=6 j=7 j=8 j=9 \n",
      "i=9\n",
      "j=1 j=2 j=3 j=4 j=5 j=6 j=7 j=8 j=9 \n"
     ]
    }
   ],
   "source": [
    "#巢狀迴圈\n",
    "for i in range(1,10):\n",
    "    print(f\"i={i}\")\n",
    "    for j in range(1,10):\n",
    "        print(f\"j={j}\",end=' ') #end=\"\\n\"是預設換行 左邊end=''是空一格換行意思，我要讓它一次迴圈跑完 換一行，再執行完下一次迴圈，換行\n",
    "    print()"
   ]
  },
  {
   "cell_type": "code",
   "execution_count": 29,
   "metadata": {},
   "outputs": [
    {
     "name": "stdout",
     "output_type": "stream",
     "text": [
      "1-2-3-4-5-a-b-d.\n"
     ]
    }
   ],
   "source": [
    "#note:看標準資料庫裡有print,end=\"\\n\"代表預設換行 ；sep=\" \"代表預設每個數字或文字中間空一格。\n",
    "#下面end='.\\n'代表遇到小數點就換行  sep=\"-\"表示我要讓它中間是 - 這樣子。\n",
    "#end、sep 可不依照順序\n",
    "print(1,2,3,4,5,\"a\",\"b\",\"d\",end='.\\n',sep=\"-\")"
   ]
  },
  {
   "cell_type": "code",
   "execution_count": 5,
   "metadata": {},
   "outputs": [
    {
     "name": "stdout",
     "output_type": "stream",
     "text": [
      "1 * 1 =  1  1 * 2 =  2  1 * 3 =  3  1 * 4 =  4  1 * 5 =  5  1 * 6 =  6  1 * 7 =  7  1 * 8 =  8  1 * 9 =  9  \n",
      "2 * 1 =  2  2 * 2 =  4  2 * 3 =  6  2 * 4 =  8  2 * 5 = 10  2 * 6 = 12  2 * 7 = 14  2 * 8 = 16  2 * 9 = 18  \n",
      "3 * 1 =  3  3 * 2 =  6  3 * 3 =  9  3 * 4 = 12  3 * 5 = 15  3 * 6 = 18  3 * 7 = 21  3 * 8 = 24  3 * 9 = 27  \n",
      "4 * 1 =  4  4 * 2 =  8  4 * 3 = 12  4 * 4 = 16  4 * 5 = 20  4 * 6 = 24  4 * 7 = 28  4 * 8 = 32  4 * 9 = 36  \n",
      "5 * 1 =  5  5 * 2 = 10  5 * 3 = 15  5 * 4 = 20  5 * 5 = 25  5 * 6 = 30  5 * 7 = 35  5 * 8 = 40  5 * 9 = 45  \n",
      "6 * 1 =  6  6 * 2 = 12  6 * 3 = 18  6 * 4 = 24  6 * 5 = 30  6 * 6 = 36  6 * 7 = 42  6 * 8 = 48  6 * 9 = 54  \n",
      "7 * 1 =  7  7 * 2 = 14  7 * 3 = 21  7 * 4 = 28  7 * 5 = 35  7 * 6 = 42  7 * 7 = 49  7 * 8 = 56  7 * 9 = 63  \n",
      "8 * 1 =  8  8 * 2 = 16  8 * 3 = 24  8 * 4 = 32  8 * 5 = 40  8 * 6 = 48  8 * 7 = 56  8 * 8 = 64  8 * 9 = 72  \n",
      "9 * 1 =  9  9 * 2 = 18  9 * 3 = 27  9 * 4 = 36  9 * 5 = 45  9 * 6 = 54  9 * 7 = 63  9 * 8 = 72  9 * 9 = 81  \n"
     ]
    }
   ],
   "source": [
    "#承上上程式區塊  巢狀迴圈-九九乘法表\n",
    "#end=\"\\n\"是預設換行 左邊end='  '是空兩格換行意思，我要讓它一次迴圈跑完，換行，再執行完下一次迴圈，換行\n",
    "for i in range(1,10):\n",
    "    for j in range(1,10):\n",
    "        print(f\"{i:<2d}*{j:2d} = {i*j:2d}\",end='  ')\n",
    "    print()"
   ]
  },
  {
   "cell_type": "code",
   "execution_count": 58,
   "metadata": {},
   "outputs": [
    {
     "name": "stdout",
     "output_type": "stream",
     "text": [
      "10   \n"
     ]
    }
   ],
   "source": [
    "num = 10\n",
    "print(f\"{num:<5d}\") # :5d代表在五個空間內，預設整數靠右；在前面加<符號，表示靠左"
   ]
  },
  {
   "cell_type": "code",
   "execution_count": 59,
   "metadata": {},
   "outputs": [
    {
     "name": "stdout",
     "output_type": "stream",
     "text": [
      "73是質數\n"
     ]
    }
   ],
   "source": [
    "is_prime= True\n",
    "num= 73\n",
    "for i in range(2,num):\n",
    "    if num % i ==0 :\n",
    "        is_prime = False\n",
    "\n",
    "if is_prime:\n",
    "    print(f\"{num}是質數\")\n",
    "else:\n",
    "    print(f\"{num}不是質數\")"
   ]
  },
  {
   "cell_type": "code",
   "execution_count": 7,
   "metadata": {},
   "outputs": [
    {
     "name": "stdout",
     "output_type": "stream",
     "text": [
      "1到11的質數是:\n",
      "2 3 5 7 11 "
     ]
    }
   ],
   "source": [
    "end = int(input('請輸入end值:'))\n",
    "print(f\"1到{end}的質數是:\")\n",
    "for num in range(2,end+1):\n",
    "    is_prime = True\n",
    "    for i in range(2,num):\n",
    "        if num % i == 0:\n",
    "            is_prime = False\n",
    "\n",
    "    if is_prime:\n",
    "        print(f\"{num}\",end=\" \")"
   ]
  }
 ],
 "metadata": {
  "kernelspec": {
   "display_name": "Python 3",
   "language": "python",
   "name": "python3"
  },
  "language_info": {
   "codemirror_mode": {
    "name": "ipython",
    "version": 3
   },
   "file_extension": ".py",
   "mimetype": "text/x-python",
   "name": "python",
   "nbconvert_exporter": "python",
   "pygments_lexer": "ipython3",
   "version": "3.10.14"
  }
 },
 "nbformat": 4,
 "nbformat_minor": 2
}
