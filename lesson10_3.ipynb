{
 "cells": [
  {
   "cell_type": "code",
   "execution_count": null,
   "metadata": {},
   "outputs": [],
   "source": [
    "#2維list\n",
    "students = [[79, 92, 68, 75, 65],     #裡面共有3個學生的分數\n",
    "            [78, 95, 68, 72, 65],\n",
    "            [72, 91, 69, 71, 62]]\n",
    "students[0] , students[1] , students[2]\n"
   ]
  },
  {
   "cell_type": "code",
   "execution_count": null,
   "metadata": {},
   "outputs": [],
   "source": [
    "for student in students:\n",
    "    print(students)"
   ]
  },
  {
   "cell_type": "code",
   "execution_count": null,
   "metadata": {},
   "outputs": [],
   "source": [
    "import random\n",
    "def get_score -> list:\n",
    "    score = []\n",
    "    for i in range(5):\n",
    "        score.append(random.randint(50, 100))   #list裡有個實體方法append\n",
    "    return score\n",
    "\n",
    "students = []\n",
    "for i in range(50):   #有50個學生，執行50次\n",
    "    scores = get_score()\n",
    "    students.append(scores)\n",
    "students\n"
   ]
  }
 ],
 "metadata": {
  "language_info": {
   "name": "python"
  }
 },
 "nbformat": 4,
 "nbformat_minor": 2
}
