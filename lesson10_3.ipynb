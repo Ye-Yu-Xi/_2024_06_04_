{
 "cells": [
  {
   "cell_type": "code",
   "execution_count": 2,
   "metadata": {},
   "outputs": [
    {
     "data": {
      "text/plain": [
       "([79, 92, 68, 75, 65], [78, 95, 68, 72, 65], [72, 91, 69, 71, 62])"
      ]
     },
     "execution_count": 2,
     "metadata": {},
     "output_type": "execute_result"
    }
   ],
   "source": [
    "#2維list\n",
    "students = [[79, 92, 68, 75, 65],     #裡面共有3個學生的分數\n",
    "            [78, 95, 68, 72, 65],\n",
    "            [72, 91, 69, 71, 62]]\n",
    "students[0] , students[1] , students[2]\n"
   ]
  },
  {
   "cell_type": "code",
   "execution_count": 3,
   "metadata": {},
   "outputs": [
    {
     "name": "stdout",
     "output_type": "stream",
     "text": [
      "[[79, 92, 68, 75, 65], [78, 95, 68, 72, 65], [72, 91, 69, 71, 62]]\n",
      "[[79, 92, 68, 75, 65], [78, 95, 68, 72, 65], [72, 91, 69, 71, 62]]\n",
      "[[79, 92, 68, 75, 65], [78, 95, 68, 72, 65], [72, 91, 69, 71, 62]]\n"
     ]
    }
   ],
   "source": [
    "for student in students:\n",
    "    print(students)"
   ]
  },
  {
   "cell_type": "code",
   "execution_count": 6,
   "metadata": {},
   "outputs": [
    {
     "data": {
      "text/plain": [
       "[[61, 89, 51, 94, 71],\n",
       " [96, 65, 95, 89, 79],\n",
       " [96, 57, 92, 64, 66],\n",
       " [80, 70, 99, 94, 68],\n",
       " [89, 88, 93, 72, 76],\n",
       " [96, 83, 78, 57, 72],\n",
       " [73, 73, 92, 100, 54],\n",
       " [68, 77, 60, 69, 96],\n",
       " [67, 52, 75, 69, 84],\n",
       " [92, 86, 57, 77, 84],\n",
       " [81, 87, 96, 50, 65],\n",
       " [65, 63, 96, 97, 61],\n",
       " [75, 95, 73, 81, 66],\n",
       " [50, 75, 94, 95, 80],\n",
       " [53, 57, 63, 95, 72],\n",
       " [82, 65, 68, 96, 90],\n",
       " [90, 90, 79, 51, 76],\n",
       " [93, 100, 62, 91, 82],\n",
       " [50, 97, 98, 96, 63],\n",
       " [95, 94, 100, 90, 85],\n",
       " [52, 68, 56, 50, 52],\n",
       " [75, 74, 91, 64, 61],\n",
       " [54, 67, 54, 67, 78],\n",
       " [98, 81, 97, 53, 59],\n",
       " [52, 82, 80, 91, 77],\n",
       " [73, 55, 94, 52, 54],\n",
       " [64, 85, 57, 96, 96],\n",
       " [54, 83, 89, 90, 99],\n",
       " [100, 91, 80, 100, 79],\n",
       " [53, 63, 84, 53, 85],\n",
       " [68, 100, 57, 76, 51],\n",
       " [70, 61, 60, 59, 92],\n",
       " [54, 98, 53, 91, 50],\n",
       " [64, 93, 53, 94, 83],\n",
       " [92, 99, 73, 87, 67],\n",
       " [62, 77, 64, 98, 66],\n",
       " [83, 62, 75, 57, 56],\n",
       " [77, 94, 51, 97, 100],\n",
       " [96, 60, 77, 50, 77],\n",
       " [63, 64, 55, 74, 50],\n",
       " [52, 50, 58, 95, 76],\n",
       " [73, 73, 76, 67, 88],\n",
       " [75, 61, 77, 78, 57],\n",
       " [94, 80, 74, 95, 97],\n",
       " [56, 70, 98, 97, 63],\n",
       " [86, 64, 76, 88, 87],\n",
       " [58, 96, 99, 97, 87],\n",
       " [96, 55, 58, 84, 75],\n",
       " [76, 53, 67, 96, 69],\n",
       " [91, 75, 94, 72, 73]]"
      ]
     },
     "execution_count": 6,
     "metadata": {},
     "output_type": "execute_result"
    }
   ],
   "source": [
    "import random\n",
    "def get_score() -> list :\n",
    "    score = []\n",
    "    for i in range(5):\n",
    "        score.append(random.randint(50, 100))   #list裡有個實體方法append\n",
    "    return score\n",
    "\n",
    "students = []\n",
    "for i in range(50):   #有50個學生，執行50次\n",
    "    scores = get_score()\n",
    "    students.append(scores)\n",
    "students\n"
   ]
  }
 ],
 "metadata": {
  "kernelspec": {
   "display_name": "Python 3",
   "language": "python",
   "name": "python3"
  },
  "language_info": {
   "codemirror_mode": {
    "name": "ipython",
    "version": 3
   },
   "file_extension": ".py",
   "mimetype": "text/x-python",
   "name": "python",
   "nbconvert_exporter": "python",
   "pygments_lexer": "ipython3",
   "version": "3.10.14"
  }
 },
 "nbformat": 4,
 "nbformat_minor": 2
}
