{
 "cells": [
  {
   "cell_type": "code",
   "execution_count": null,
   "metadata": {},
   "outputs": [],
   "source": [
    "#10-3課堂 list的二維陣列"
   ]
  },
  {
   "cell_type": "code",
   "execution_count": 12,
   "metadata": {},
   "outputs": [
    {
     "data": {
      "text/plain": [
       "([79, 92, 68, 75, 65], [78, 95, 68, 72, 65], [72, 91, 69, 71, 62])"
      ]
     },
     "execution_count": 12,
     "metadata": {},
     "output_type": "execute_result"
    }
   ],
   "source": [
    "#2:33:00\n",
    "#2維list\n",
    "students =[[79, 92, 68, 75, 65],\n",
    "          [78, 95, 68, 72, 65],\n",
    "          [72, 91, 69, 71, 62]]\n",
    "students[0] , students[1], students[2]"
   ]
  },
  {
   "cell_type": "code",
   "execution_count": 13,
   "metadata": {},
   "outputs": [
    {
     "name": "stdout",
     "output_type": "stream",
     "text": [
      "[79, 92, 68, 75, 65]\n",
      "[78, 95, 68, 72, 65]\n",
      "[72, 91, 69, 71, 62]\n"
     ]
    }
   ],
   "source": [
    "for student in students:\n",
    "    print(student)"
   ]
  },
  {
   "cell_type": "code",
   "execution_count": 16,
   "metadata": {},
   "outputs": [
    {
     "data": {
      "text/plain": [
       "[[79, 95, 56, 99, 95],\n",
       " [65, 72, 74, 54, 78],\n",
       " [51, 90, 55, 96, 62],\n",
       " [58, 59, 85, 70, 99],\n",
       " [91, 75, 55, 97, 85],\n",
       " [79, 90, 88, 74, 100],\n",
       " [88, 51, 60, 82, 67],\n",
       " [89, 65, 61, 61, 70],\n",
       " [87, 63, 65, 51, 66],\n",
       " [50, 90, 97, 57, 61],\n",
       " [60, 100, 88, 70, 58],\n",
       " [52, 50, 73, 59, 53],\n",
       " [80, 62, 55, 62, 69],\n",
       " [79, 98, 73, 66, 80],\n",
       " [87, 89, 55, 99, 75],\n",
       " [53, 95, 100, 73, 99],\n",
       " [80, 80, 95, 92, 95],\n",
       " [99, 60, 78, 94, 68],\n",
       " [92, 73, 68, 82, 80],\n",
       " [90, 67, 69, 84, 65],\n",
       " [79, 74, 73, 75, 65],\n",
       " [79, 93, 100, 53, 86],\n",
       " [52, 100, 100, 91, 66],\n",
       " [95, 68, 69, 55, 95],\n",
       " [61, 69, 53, 60, 72],\n",
       " [91, 69, 88, 60, 59],\n",
       " [88, 54, 55, 54, 74],\n",
       " [78, 66, 50, 75, 67],\n",
       " [85, 83, 52, 94, 92],\n",
       " [95, 74, 59, 72, 96],\n",
       " [79, 94, 52, 69, 90],\n",
       " [87, 67, 94, 68, 82],\n",
       " [67, 66, 68, 84, 60],\n",
       " [66, 84, 58, 69, 97],\n",
       " [81, 71, 65, 72, 80],\n",
       " [62, 80, 72, 55, 83],\n",
       " [65, 68, 64, 90, 54],\n",
       " [97, 66, 56, 64, 82],\n",
       " [72, 79, 53, 75, 75],\n",
       " [95, 74, 95, 85, 55],\n",
       " [58, 68, 64, 58, 91],\n",
       " [89, 72, 55, 99, 94],\n",
       " [86, 69, 54, 82, 67],\n",
       " [56, 94, 51, 99, 93],\n",
       " [74, 69, 55, 89, 79],\n",
       " [75, 52, 93, 75, 63],\n",
       " [83, 94, 99, 50, 90],\n",
       " [93, 60, 71, 99, 80],\n",
       " [62, 94, 57, 82, 68],\n",
       " [76, 63, 67, 78, 62]]"
      ]
     },
     "execution_count": 16,
     "metadata": {},
     "output_type": "execute_result"
    }
   ],
   "source": [
    "import random\n",
    "def get_score() -> list:    #建立學生分數傳出list\n",
    "    score = []\n",
    "    for i in range(5):\n",
    "        score.append(random.randint(50,100))\n",
    "    return score\n",
    "\n",
    "students = []\n",
    "for i in range(50):\n",
    "    scores = get_score()\n",
    "    students.append(scores)\n",
    "students        "
   ]
  }
 ],
 "metadata": {
  "kernelspec": {
   "display_name": "Python 3",
   "language": "python",
   "name": "python3"
  },
  "language_info": {
   "codemirror_mode": {
    "name": "ipython",
    "version": 3
   },
   "file_extension": ".py",
   "mimetype": "text/x-python",
   "name": "python",
   "nbconvert_exporter": "python",
   "pygments_lexer": "ipython3",
   "version": "3.10.14"
  }
 },
 "nbformat": 4,
 "nbformat_minor": 2
}
