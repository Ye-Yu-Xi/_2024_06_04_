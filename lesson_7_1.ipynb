{
 "cells": [
  {
   "cell_type": "code",
   "execution_count": 2,
   "metadata": {},
   "outputs": [
    {
     "name": "stdout",
     "output_type": "stream",
     "text": [
      "quack\n"
     ]
    }
   ],
   "source": [
    "#沒有參數，沒有傳出值的function\n",
    "def make_a_sound(): #括弧內沒有參數 #程式由上往下執行， 2→3行執行完，再最後一行完，再跳回去第二行，顯示print，再往下一行，下面沒東西了。\n",
    "    print(\"quack\")\n",
    "\n",
    "make_a_sound()"
   ]
  },
  {
   "cell_type": "code",
   "execution_count": 6,
   "metadata": {},
   "outputs": [
    {
     "name": "stdout",
     "output_type": "stream",
     "text": [
      "3 + 8 = 11\n",
      "3 * 8 = 24\n"
     ]
    }
   ],
   "source": [
    "def add(first,second):\n",
    "    print(f\"{first} + {second} = {first+second}\")\n",
    "\n",
    "def multipie(first,second):  \n",
    "    print(f\"{first} * {second} = {first*second}\")\n",
    "\n",
    "add(3,8)\n",
    "multipie(3,8)"
   ]
  }
 ],
 "metadata": {
  "kernelspec": {
   "display_name": "Python 3",
   "language": "python",
   "name": "python3"
  },
  "language_info": {
   "codemirror_mode": {
    "name": "ipython",
    "version": 3
   },
   "file_extension": ".py",
   "mimetype": "text/x-python",
   "name": "python",
   "nbconvert_exporter": "python",
   "pygments_lexer": "ipython3",
   "version": "3.10.14"
  }
 },
 "nbformat": 4,
 "nbformat_minor": 2
}
