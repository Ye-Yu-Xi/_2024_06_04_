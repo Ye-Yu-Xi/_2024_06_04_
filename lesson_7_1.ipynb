{
 "cells": [
  {
   "cell_type": "code",
   "execution_count": null,
   "metadata": {},
   "outputs": [],
   "source": [
    "#第七堂之一:\n",
    "#def ():參數引數介紹"
   ]
  },
  {
   "cell_type": "code",
   "execution_count": 2,
   "metadata": {},
   "outputs": [
    {
     "name": "stdout",
     "output_type": "stream",
     "text": [
      "quack\n"
     ]
    }
   ],
   "source": [
    "#沒有參數，沒有傳出值的function\n",
    "def make_a_sound(): #括弧內沒有參數 #程式由上往下執行， 2→3行執行完，再最後一行完，再跳回去第二行，顯示print，再往下一行，下面沒東西了。\n",
    "    print(\"quack\")\n",
    "\n",
    "make_a_sound()"
   ]
  },
  {
   "cell_type": "code",
   "execution_count": 6,
   "metadata": {},
   "outputs": [
    {
     "name": "stdout",
     "output_type": "stream",
     "text": [
      "3 + 8 = 11\n",
      "3 * 8 = 24\n"
     ]
    }
   ],
   "source": [
    "def add(first,second):\n",
    "    print(f\"{first} + {second} = {first+second}\")\n",
    "\n",
    "def multipie(first,second):  \n",
    "    print(f\"{first} * {second} = {first*second}\")\n",
    "\n",
    "#引數值呼叫\n",
    "add(3,8)\n",
    "multipie(3,8)"
   ]
  },
  {
   "cell_type": "code",
   "execution_count": 8,
   "metadata": {},
   "outputs": [
    {
     "name": "stdout",
     "output_type": "stream",
     "text": [
      "3 + 8 = 11\n",
      "3 * 8 = 24\n"
     ]
    }
   ],
   "source": [
    "#引數名稱的呼叫，可以不依順序\n",
    "add(first=3,second=8)\n",
    "multipie(second=8,first=3) #使用引數名稱的呼叫，後面就不可以以引數值呼叫"
   ]
  },
  {
   "cell_type": "code",
   "execution_count": 14,
   "metadata": {},
   "outputs": [
    {
     "name": "stdout",
     "output_type": "stream",
     "text": [
      "3 + 8 = 11\n",
      "3 * 8 = 24\n"
     ]
    }
   ],
   "source": [
    "#混合呼叫，前面用引數值呼叫，後面用引數名稱呼叫\n",
    "add(3,second=8)\n",
    "multipie(3,second=8)"
   ]
  }
 ],
 "metadata": {
  "kernelspec": {
   "display_name": "Python 3",
   "language": "python",
   "name": "python3"
  },
  "language_info": {
   "codemirror_mode": {
    "name": "ipython",
    "version": 3
   },
   "file_extension": ".py",
   "mimetype": "text/x-python",
   "name": "python",
   "nbconvert_exporter": "python",
   "pygments_lexer": "ipython3",
   "version": "3.10.14"
  }
 },
 "nbformat": 4,
 "nbformat_minor": 2
}
