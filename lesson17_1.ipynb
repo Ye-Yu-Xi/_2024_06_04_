{
 "cells": [
  {
   "cell_type": "code",
   "execution_count": 7,
   "metadata": {},
   "outputs": [
    {
     "data": {
      "text/html": [
       "<div>\n",
       "<style scoped>\n",
       "    .dataframe tbody tr th:only-of-type {\n",
       "        vertical-align: middle;\n",
       "    }\n",
       "\n",
       "    .dataframe tbody tr th {\n",
       "        vertical-align: top;\n",
       "    }\n",
       "\n",
       "    .dataframe thead th {\n",
       "        text-align: right;\n",
       "    }\n",
       "</style>\n",
       "<table border=\"1\" class=\"dataframe\">\n",
       "  <thead>\n",
       "    <tr style=\"text-align: right;\">\n",
       "      <th></th>\n",
       "      <th>字串</th>\n",
       "      <th>整數</th>\n",
       "      <th>浮點數</th>\n",
       "    </tr>\n",
       "  </thead>\n",
       "  <tbody>\n",
       "    <tr>\n",
       "      <th>0</th>\n",
       "      <td>台北</td>\n",
       "      <td>1000</td>\n",
       "      <td>3.258</td>\n",
       "    </tr>\n",
       "    <tr>\n",
       "      <th>1</th>\n",
       "      <td>台中</td>\n",
       "      <td>3000</td>\n",
       "      <td>7.396</td>\n",
       "    </tr>\n",
       "  </tbody>\n",
       "</table>\n",
       "</div>"
      ],
      "text/plain": [
       "   字串    整數    浮點數\n",
       "0  台北  1000  3.258\n",
       "1  台中  3000  7.396"
      ]
     },
     "metadata": {},
     "output_type": "display_data"
    }
   ],
   "source": [
    "import pandas as pd\n",
    "#筆記:dict裡面有list{[]}dict為主 \n",
    "data = {'字串':['台北','台中'],\n",
    "        '整數':[1000, 3000],\n",
    "        '浮點數':[3.258, 7.396]}\n",
    "\n",
    "df =pd.DataFrame(data)   #dict轉成df\n",
    "display(df)"
   ]
  },
  {
   "cell_type": "code",
   "execution_count": 8,
   "metadata": {},
   "outputs": [
    {
     "data": {
      "text/html": [
       "<style type=\"text/css\">\n",
       "</style>\n",
       "<table id=\"T_4d025\">\n",
       "  <thead>\n",
       "    <tr>\n",
       "      <th class=\"blank level0\" >&nbsp;</th>\n",
       "      <th id=\"T_4d025_level0_col0\" class=\"col_heading level0 col0\" >字串</th>\n",
       "      <th id=\"T_4d025_level0_col1\" class=\"col_heading level0 col1\" >整數</th>\n",
       "      <th id=\"T_4d025_level0_col2\" class=\"col_heading level0 col2\" >浮點數</th>\n",
       "    </tr>\n",
       "  </thead>\n",
       "  <tbody>\n",
       "    <tr>\n",
       "      <th id=\"T_4d025_level0_row0\" class=\"row_heading level0 row0\" >列1</th>\n",
       "      <td id=\"T_4d025_row0_col0\" class=\"data row0 col0\" >台北</td>\n",
       "      <td id=\"T_4d025_row0_col1\" class=\"data row0 col1\" >1,000</td>\n",
       "      <td id=\"T_4d025_row0_col2\" class=\"data row0 col2\" >3.26</td>\n",
       "    </tr>\n",
       "    <tr>\n",
       "      <th id=\"T_4d025_level0_row1\" class=\"row_heading level0 row1\" >列2</th>\n",
       "      <td id=\"T_4d025_row1_col0\" class=\"data row1 col0\" >台中</td>\n",
       "      <td id=\"T_4d025_row1_col1\" class=\"data row1 col1\" >3,000</td>\n",
       "      <td id=\"T_4d025_row1_col2\" class=\"data row1 col2\" >7.40</td>\n",
       "    </tr>\n",
       "  </tbody>\n",
       "</table>\n"
      ],
      "text/plain": [
       "<pandas.io.formats.style.Styler at 0x7ba306355780>"
      ]
     },
     "execution_count": 8,
     "metadata": {},
     "output_type": "execute_result"
    }
   ],
   "source": [
    "#視覺美化資料表       #筆記-precision精準度:顯示小數點後面幾位, thousands千的符號類型, decimal小數點類型\n",
    "#pip install jinja2   #一行程式太長,可用反斜線\\代表銜接前一行\n",
    "df.style\\\n",
    ".format(precision=2,thousands=',',decimal='.')\\\n",
    ".relabel_index([\"列1\",\"列2\"])   #索引標籤名稱"
   ]
  },
  {
   "cell_type": "code",
   "execution_count": 16,
   "metadata": {},
   "outputs": [
    {
     "data": {
      "text/html": [
       "<div>\n",
       "<style scoped>\n",
       "    .dataframe tbody tr th:only-of-type {\n",
       "        vertical-align: middle;\n",
       "    }\n",
       "\n",
       "    .dataframe tbody tr th {\n",
       "        vertical-align: top;\n",
       "    }\n",
       "\n",
       "    .dataframe thead th {\n",
       "        text-align: right;\n",
       "    }\n",
       "</style>\n",
       "<table border=\"1\" class=\"dataframe\">\n",
       "  <thead>\n",
       "    <tr style=\"text-align: right;\">\n",
       "      <th></th>\n",
       "      <th>台北</th>\n",
       "      <th>台中</th>\n",
       "    </tr>\n",
       "  </thead>\n",
       "  <tbody>\n",
       "    <tr>\n",
       "      <th>2023-09-01</th>\n",
       "      <td>2.319929</td>\n",
       "      <td>3.837324</td>\n",
       "    </tr>\n",
       "    <tr>\n",
       "      <th>2023-09-02</th>\n",
       "      <td>2.463102</td>\n",
       "      <td>2.340720</td>\n",
       "    </tr>\n",
       "    <tr>\n",
       "      <th>2023-09-03</th>\n",
       "      <td>1.250395</td>\n",
       "      <td>1.555739</td>\n",
       "    </tr>\n",
       "    <tr>\n",
       "      <th>2023-09-04</th>\n",
       "      <td>1.824960</td>\n",
       "      <td>1.445457</td>\n",
       "    </tr>\n",
       "    <tr>\n",
       "      <th>2023-09-05</th>\n",
       "      <td>3.746593</td>\n",
       "      <td>4.116622</td>\n",
       "    </tr>\n",
       "    <tr>\n",
       "      <th>2023-09-06</th>\n",
       "      <td>4.989129</td>\n",
       "      <td>2.672094</td>\n",
       "    </tr>\n",
       "    <tr>\n",
       "      <th>2023-09-07</th>\n",
       "      <td>4.995939</td>\n",
       "      <td>0.539081</td>\n",
       "    </tr>\n",
       "    <tr>\n",
       "      <th>2023-09-08</th>\n",
       "      <td>1.804560</td>\n",
       "      <td>0.799388</td>\n",
       "    </tr>\n",
       "    <tr>\n",
       "      <th>2023-09-09</th>\n",
       "      <td>2.577594</td>\n",
       "      <td>1.504575</td>\n",
       "    </tr>\n",
       "    <tr>\n",
       "      <th>2023-09-10</th>\n",
       "      <td>1.450378</td>\n",
       "      <td>2.973903</td>\n",
       "    </tr>\n",
       "  </tbody>\n",
       "</table>\n",
       "</div>"
      ],
      "text/plain": [
       "                  台北        台中\n",
       "2023-09-01  2.319929  3.837324\n",
       "2023-09-02  2.463102  2.340720\n",
       "2023-09-03  1.250395  1.555739\n",
       "2023-09-04  1.824960  1.445457\n",
       "2023-09-05  3.746593  4.116622\n",
       "2023-09-06  4.989129  2.672094\n",
       "2023-09-07  4.995939  0.539081\n",
       "2023-09-08  1.804560  0.799388\n",
       "2023-09-09  2.577594  1.504575\n",
       "2023-09-10  1.450378  2.973903"
      ]
     },
     "execution_count": 16,
     "metadata": {},
     "output_type": "execute_result"
    }
   ],
   "source": [
    "import numpy as np\n",
    "data = np.random.rand(10,2) * 5      #模組.模組.函數,產生列10,欄2個 ndArray可以運算 *5\n",
    "df = pd.DataFrame(data,\n",
    "                  index = pd.date_range(start='2023-09-01',periods=10),\n",
    "                  columns=['台北','台中'])   \n",
    "#把第2行的Ndarray轉成DF資料類型, \n",
    "#date_range(start='2023-09-01',自訂一個虛擬日期\"  periods=10表示建立一天一天連續10個\n",
    "df"
   ]
  }
 ],
 "metadata": {
  "kernelspec": {
   "display_name": "Python 3",
   "language": "python",
   "name": "python3"
  },
  "language_info": {
   "codemirror_mode": {
    "name": "ipython",
    "version": 3
   },
   "file_extension": ".py",
   "mimetype": "text/x-python",
   "name": "python",
   "nbconvert_exporter": "python",
   "pygments_lexer": "ipython3",
   "version": "3.10.14"
  }
 },
 "nbformat": 4,
 "nbformat_minor": 2
}
