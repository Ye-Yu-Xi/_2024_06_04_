{
 "cells": [
  {
   "cell_type": "code",
   "execution_count": 8,
   "metadata": {},
   "outputs": [],
   "source": [
    "#1:13:14"
   ]
  },
  {
   "cell_type": "code",
   "execution_count": 9,
   "metadata": {},
   "outputs": [
    {
     "data": {
      "text/plain": [
       "[3, 7, 11, 15, 19]"
      ]
     },
     "execution_count": 9,
     "metadata": {},
     "output_type": "execute_result"
    }
   ],
   "source": [
    "#建立list\n",
    "a = [1, 3, 5, 7, 9]      #如果直接a*2 會變成[1, 3, 5, 7, 9, 1, 3, 5, 7, 9]\n",
    "a * 2\n",
    "\n",
    "b = [2, 4, 6, 8, 10]\n",
    "a + b                   # a+b 則會變成[1, 3, 5, 7, 9, 2, 4, 6, 8, 10]\n",
    "\n",
    "result = []             \n",
    "for i in range(5): \n",
    "    result.append(a[i] + b[i])  # 需要用到方法append才能真爭把[a]+[b]list\n",
    "\n",
    "\n",
    "result   "
   ]
  },
  {
   "cell_type": "code",
   "execution_count": 10,
   "metadata": {},
   "outputs": [
    {
     "data": {
      "text/plain": [
       "array([ 3,  7, 11, 15, 19])"
      ]
     },
     "execution_count": 10,
     "metadata": {},
     "output_type": "execute_result"
    }
   ],
   "source": [
    "import numpy as np\n",
    "\n",
    "#透過list建立ndArray\n",
    "\n",
    "a_array = np.array([1, 3, 5, 7, 9]) #array是方法\n",
    "a_array * 2\n",
    "\n",
    "b_array = np.array([2, 4, 6, 8, 10])\n",
    "\n",
    "a_array + b_array"
   ]
  },
  {
   "cell_type": "code",
   "execution_count": 11,
   "metadata": {},
   "outputs": [
    {
     "data": {
      "text/plain": [
       "[59, 95, 79, 70, 59]"
      ]
     },
     "execution_count": 11,
     "metadata": {},
     "output_type": "execute_result"
    }
   ],
   "source": [
    "#使用python建立5個亂數元素的list\n",
    "import random\n",
    "\n",
    "#list comprehenstion\n",
    "[random.randint(50,100) for _ in range(5)]  #50~100之間，包含100 執行5次"
   ]
  },
  {
   "cell_type": "code",
   "execution_count": 12,
   "metadata": {},
   "outputs": [
    {
     "data": {
      "text/plain": [
       "array([87, 57, 89, 73, 58])"
      ]
     },
     "execution_count": 12,
     "metadata": {},
     "output_type": "execute_result"
    }
   ],
   "source": [
    "#使用numpy random 建立亂數\n",
    "import numpy as np\n",
    "np.random.randint(50,high=100,size=5)  #不含high數字本身"
   ]
  },
  {
   "cell_type": "code",
   "execution_count": 13,
   "metadata": {},
   "outputs": [
    {
     "data": {
      "text/plain": [
       "array([[86, 97, 54, 86, 63],\n",
       "       [73, 81, 66, 76, 86],\n",
       "       [77, 60, 90, 50, 77],\n",
       "       [88, 82, 93, 74, 75],\n",
       "       [52, 68, 82, 65, 78],\n",
       "       [51, 94, 99, 54, 99],\n",
       "       [77, 63, 95, 74, 88],\n",
       "       [97, 75, 72, 97, 76],\n",
       "       [50, 54, 50, 53, 96],\n",
       "       [93, 65, 84, 64, 81],\n",
       "       [87, 85, 66, 97, 82],\n",
       "       [98, 73, 80, 86, 56],\n",
       "       [52, 81, 81, 65, 82],\n",
       "       [79, 51, 94, 74, 63],\n",
       "       [58, 81, 99, 88, 83],\n",
       "       [87, 66, 77, 72, 54],\n",
       "       [75, 84, 92, 66, 51],\n",
       "       [66, 53, 77, 75, 94],\n",
       "       [56, 82, 84, 73, 52],\n",
       "       [85, 92, 80, 64, 76],\n",
       "       [95, 99, 75, 57, 92],\n",
       "       [75, 87, 65, 60, 68],\n",
       "       [89, 91, 94, 52, 72],\n",
       "       [78, 63, 63, 70, 79],\n",
       "       [94, 85, 67, 88, 76],\n",
       "       [70, 75, 80, 96, 73],\n",
       "       [78, 96, 62, 90, 55],\n",
       "       [67, 80, 87, 93, 86],\n",
       "       [55, 79, 84, 86, 50],\n",
       "       [71, 79, 85, 83, 78],\n",
       "       [91, 67, 97, 52, 52],\n",
       "       [70, 67, 50, 95, 87],\n",
       "       [85, 93, 78, 67, 99],\n",
       "       [65, 54, 58, 55, 96],\n",
       "       [56, 55, 65, 77, 61],\n",
       "       [90, 83, 84, 66, 69],\n",
       "       [97, 70, 65, 79, 77],\n",
       "       [78, 81, 89, 71, 80],\n",
       "       [66, 52, 99, 80, 92],\n",
       "       [67, 70, 89, 75, 74],\n",
       "       [68, 78, 72, 98, 99],\n",
       "       [94, 63, 87, 59, 57],\n",
       "       [65, 99, 64, 74, 98],\n",
       "       [86, 70, 74, 58, 63],\n",
       "       [62, 86, 97, 51, 77],\n",
       "       [93, 91, 52, 68, 64],\n",
       "       [80, 61, 84, 51, 70],\n",
       "       [76, 79, 98, 85, 68],\n",
       "       [53, 84, 89, 70, 98],\n",
       "       [75, 79, 78, 83, 55]])"
      ]
     },
     "execution_count": 13,
     "metadata": {},
     "output_type": "execute_result"
    }
   ],
   "source": [
    "np.random.randint(50,high=100,size=(50, 5))  #隨機生成50~100之間，不含100；共有50行，每行有5個元素\n",
    "#1:44:13"
   ]
  }
 ],
 "metadata": {
  "kernelspec": {
   "display_name": "Python 3",
   "language": "python",
   "name": "python3"
  },
  "language_info": {
   "codemirror_mode": {
    "name": "ipython",
    "version": 3
   },
   "file_extension": ".py",
   "mimetype": "text/x-python",
   "name": "python",
   "nbconvert_exporter": "python",
   "pygments_lexer": "ipython3",
   "version": "3.10.14"
  }
 },
 "nbformat": 4,
 "nbformat_minor": 2
}
