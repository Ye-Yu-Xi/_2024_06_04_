{
 "cells": [
  {
   "cell_type": "code",
   "execution_count": null,
   "metadata": {},
   "outputs": [],
   "source": [
    "#1:13:14"
   ]
  },
  {
   "cell_type": "code",
   "execution_count": 2,
   "metadata": {},
   "outputs": [
    {
     "data": {
      "text/plain": [
       "[3, 7, 11, 15, 19]"
      ]
     },
     "execution_count": 2,
     "metadata": {},
     "output_type": "execute_result"
    }
   ],
   "source": [
    "#建立list\n",
    "a = [1, 3, 5, 7, 9]      #如果直接a*2 會變成[1, 3, 5, 7, 9, 1, 3, 5, 7, 9]\n",
    "a * 2\n",
    "\n",
    "b = [2, 4, 6, 8, 10]\n",
    "a + b                   # a+b 則會變成[1, 3, 5, 7, 9, 2, 4, 6, 8, 10]\n",
    "\n",
    "result = []             \n",
    "for i in range(5): \n",
    "    result.append(a[i] + b[i])  # 需要用到方法append才能真爭把[a]+[b]list\n",
    "\n",
    "\n",
    "result   "
   ]
  },
  {
   "cell_type": "code",
   "execution_count": 7,
   "metadata": {},
   "outputs": [
    {
     "data": {
      "text/plain": [
       "array([ 3,  7, 11, 15, 19])"
      ]
     },
     "execution_count": 7,
     "metadata": {},
     "output_type": "execute_result"
    }
   ],
   "source": [
    "import numpy as np\n",
    "\n",
    "#透過list建立ndArray\n",
    "\n",
    "a_array = np.array([1, 3, 5, 7, 9]) #array是方法\n",
    "a_array * 2\n",
    "\n",
    "b_array = np.array([2, 4, 6, 8, 10])\n",
    "\n",
    "a_array + b_array"
   ]
  },
  {
   "cell_type": "code",
   "execution_count": 38,
   "metadata": {},
   "outputs": [
    {
     "data": {
      "text/plain": [
       "[77, 86, 83, 74, 59]"
      ]
     },
     "execution_count": 38,
     "metadata": {},
     "output_type": "execute_result"
    }
   ],
   "source": [
    "#使用python建立5個亂數元素的list\n",
    "import random\n",
    "\n",
    "#list comprehenstion\n",
    "[random.randint(50,100) for _ in range(5)]  #50~100之間，包含100 執行5次"
   ]
  },
  {
   "cell_type": "code",
   "execution_count": 33,
   "metadata": {},
   "outputs": [
    {
     "data": {
      "text/plain": [
       "array([75, 92, 83, 73, 87])"
      ]
     },
     "execution_count": 33,
     "metadata": {},
     "output_type": "execute_result"
    }
   ],
   "source": [
    "#使用numpy random 建立亂數\n",
    "import numpy as np\n",
    "np.random.randint(50,high=100,size=5)  #不含high數字本身"
   ]
  },
  {
   "cell_type": "code",
   "execution_count": 51,
   "metadata": {},
   "outputs": [
    {
     "data": {
      "text/plain": [
       "array([[59, 79, 64, 87, 87],\n",
       "       [54, 84, 70, 94, 68],\n",
       "       [86, 85, 70, 90, 61],\n",
       "       [68, 82, 87, 79, 53],\n",
       "       [52, 63, 74, 91, 91],\n",
       "       [67, 77, 51, 78, 93],\n",
       "       [50, 66, 87, 63, 84],\n",
       "       [58, 55, 62, 82, 68],\n",
       "       [96, 68, 76, 97, 72],\n",
       "       [96, 58, 58, 81, 78],\n",
       "       [82, 92, 50, 79, 88],\n",
       "       [89, 81, 79, 69, 78],\n",
       "       [81, 55, 76, 62, 81],\n",
       "       [57, 61, 64, 64, 60],\n",
       "       [58, 85, 74, 66, 94],\n",
       "       [61, 90, 53, 75, 82],\n",
       "       [55, 91, 79, 79, 91],\n",
       "       [54, 79, 92, 90, 53],\n",
       "       [81, 69, 64, 78, 84],\n",
       "       [76, 75, 62, 71, 62],\n",
       "       [92, 62, 93, 98, 59],\n",
       "       [59, 83, 76, 96, 57],\n",
       "       [96, 61, 51, 63, 59],\n",
       "       [59, 95, 62, 53, 50],\n",
       "       [57, 85, 84, 74, 69],\n",
       "       [79, 67, 88, 63, 98],\n",
       "       [51, 93, 70, 93, 62],\n",
       "       [77, 70, 88, 61, 51],\n",
       "       [50, 79, 91, 64, 82],\n",
       "       [82, 69, 78, 75, 90],\n",
       "       [63, 75, 81, 60, 82],\n",
       "       [67, 77, 96, 78, 87],\n",
       "       [97, 51, 63, 80, 83],\n",
       "       [96, 85, 53, 97, 81],\n",
       "       [78, 87, 78, 89, 85],\n",
       "       [93, 95, 70, 96, 85],\n",
       "       [85, 97, 89, 81, 87],\n",
       "       [78, 73, 65, 68, 56],\n",
       "       [53, 96, 62, 96, 61],\n",
       "       [77, 98, 76, 95, 71],\n",
       "       [92, 91, 52, 57, 99],\n",
       "       [82, 64, 97, 87, 99],\n",
       "       [71, 87, 50, 98, 70],\n",
       "       [93, 55, 51, 87, 84],\n",
       "       [90, 60, 99, 50, 71],\n",
       "       [98, 65, 94, 85, 82],\n",
       "       [75, 53, 82, 79, 81],\n",
       "       [76, 61, 60, 96, 87],\n",
       "       [55, 62, 55, 64, 51],\n",
       "       [53, 98, 53, 86, 93]])"
      ]
     },
     "execution_count": 51,
     "metadata": {},
     "output_type": "execute_result"
    }
   ],
   "source": [
    "np.random.randint(50,high=100,size=(50, 5))  #隨機生成50~100之間，不含100；共有50行，每行有5個元素\n",
    "#1:44:13"
   ]
  }
 ],
 "metadata": {
  "kernelspec": {
   "display_name": "Python 3",
   "language": "python",
   "name": "python3"
  },
  "language_info": {
   "codemirror_mode": {
    "name": "ipython",
    "version": 3
   },
   "file_extension": ".py",
   "mimetype": "text/x-python",
   "name": "python",
   "nbconvert_exporter": "python",
   "pygments_lexer": "ipython3",
   "version": "3.10.14"
  }
 },
 "nbformat": 4,
 "nbformat_minor": 2
}
