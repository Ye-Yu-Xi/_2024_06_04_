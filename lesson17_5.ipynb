{
 "cells": [
  {
   "cell_type": "code",
   "execution_count": null,
   "metadata": {},
   "outputs": [
    {
     "data": {
      "text/plain": [
       "0     85\n",
       "1     66\n",
       "2     86\n",
       "3     97\n",
       "4     70\n",
       "5     68\n",
       "6     69\n",
       "7     73\n",
       "8     78\n",
       "9     60\n",
       "10    93\n",
       "11    50\n",
       "12    59\n",
       "13    75\n",
       "14    95\n",
       "15    91\n",
       "16    76\n",
       "17    66\n",
       "18    97\n",
       "19    54\n",
       "20    57\n",
       "21    86\n",
       "22    90\n",
       "23    93\n",
       "24    65\n",
       "25    95\n",
       "26    97\n",
       "27    84\n",
       "28    61\n",
       "29    89\n",
       "30    60\n",
       "31    76\n",
       "32    90\n",
       "33    78\n",
       "34    51\n",
       "35    98\n",
       "36    90\n",
       "37    60\n",
       "38    71\n",
       "39    95\n",
       "40    65\n",
       "41    59\n",
       "42    91\n",
       "43    88\n",
       "44    65\n",
       "45    74\n",
       "46    57\n",
       "47    77\n",
       "48    86\n",
       "49    90\n",
       "Name: 國文, dtype: int64"
      ]
     },
     "execution_count": 10,
     "metadata": {},
     "output_type": "execute_result"
    }
   ],
   "source": [
    "import pandas as pd\n",
    "df = pd.read_csv('學生成績.csv')\n",
    "\n",
    "#使用subscript搜尋Series value(值)\n",
    "chinese_s = df['國文']   #把它變成Series\n",
    "chinese_s"
   ]
  },
  {
   "cell_type": "code",
   "execution_count": null,
   "metadata": {},
   "outputs": [
    {
     "data": {
      "text/plain": [
       "0     85\n",
       "1     66\n",
       "2     86\n",
       "3     97\n",
       "4     70\n",
       "5     68\n",
       "6     69\n",
       "7     73\n",
       "8     78\n",
       "9     60\n",
       "10    93\n",
       "13    75\n",
       "14    95\n",
       "15    91\n",
       "16    76\n",
       "17    66\n",
       "18    97\n",
       "21    86\n",
       "22    90\n",
       "23    93\n",
       "24    65\n",
       "25    95\n",
       "26    97\n",
       "27    84\n",
       "28    61\n",
       "29    89\n",
       "30    60\n",
       "31    76\n",
       "32    90\n",
       "33    78\n",
       "35    98\n",
       "36    90\n",
       "37    60\n",
       "38    71\n",
       "39    95\n",
       "40    65\n",
       "42    91\n",
       "43    88\n",
       "44    65\n",
       "45    74\n",
       "47    77\n",
       "48    86\n",
       "49    90\n",
       "Name: 國文, dtype: int64"
      ]
     },
     "execution_count": 8,
     "metadata": {},
     "output_type": "execute_result"
    }
   ],
   "source": [
    "#國文及格的\n",
    "chinese_s[chinese_s >= 60]  #大於60"
   ]
  },
  {
   "cell_type": "code",
   "execution_count": 5,
   "metadata": {},
   "outputs": [
    {
     "data": {
      "text/plain": [
       "3     57\n",
       "9     59\n",
       "11    51\n",
       "14    56\n",
       "17    59\n",
       "20    57\n",
       "23    55\n",
       "30    50\n",
       "31    56\n",
       "36    57\n",
       "42    56\n",
       "47    52\n",
       "Name: 數學, dtype: int64"
      ]
     },
     "execution_count": 5,
     "metadata": {},
     "output_type": "execute_result"
    }
   ],
   "source": [
    "#數學及格的\n",
    "math_s = df['數學']\n",
    "math_s[math_s < 60]"
   ]
  }
 ],
 "metadata": {
  "kernelspec": {
   "display_name": "Python 3",
   "language": "python",
   "name": "python3"
  },
  "language_info": {
   "codemirror_mode": {
    "name": "ipython",
    "version": 3
   },
   "file_extension": ".py",
   "mimetype": "text/x-python",
   "name": "python",
   "nbconvert_exporter": "python",
   "pygments_lexer": "ipython3",
   "version": "3.10.14"
  }
 },
 "nbformat": 4,
 "nbformat_minor": 2
}
