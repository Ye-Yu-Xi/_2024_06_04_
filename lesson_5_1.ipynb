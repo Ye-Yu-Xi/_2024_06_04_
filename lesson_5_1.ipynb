{
 "cells": [
  {
   "cell_type": "code",
   "execution_count": 6,
   "metadata": {},
   "outputs": [
    {
     "name": "stdout",
     "output_type": "stream",
     "text": [
      "獎金:0\n"
     ]
    }
   ],
   "source": [
    "#國文分數100 同時數學分數100 ，獎金:1000\n",
    "#國文分數100 或  數學分數100 ，獎金:500\n",
    "#國文、數學都沒有100 獎金0元\n",
    "chinese= int(input(\"請輸入國文分數\"))\n",
    "math= int(input(\"請輸入數學分數\"))\n",
    "#巢狀判斷\n",
    "bonus=0\n",
    "if chinese == 100:\n",
    "    if math == 100:\n",
    "        bonus = 1000\n",
    "    else:\n",
    "        bonus = 500\n",
    "elif math ==100:\n",
    "      bonus = 500\n",
    "\n",
    "print(f\"獎金:{bonus}\")"
   ]
  },
  {
   "cell_type": "code",
   "execution_count": 10,
   "metadata": {},
   "outputs": [
    {
     "name": "stdout",
     "output_type": "stream",
     "text": [
      "獎金:0\n"
     ]
    }
   ],
   "source": [
    "chinese= int(input(\"請輸入國文分數\"))\n",
    "math= int(input(\"請輸入數學分數\"))\n",
    "#使用邏輯運算子\n",
    "bonus=0\n",
    "\n",
    "if  chinese == 100 and math ==100:\n",
    "    bonus=1000\n",
    "elif chinese == 100 or math ==100:\n",
    "    bonus=500\n",
    "print(f\"獎金:{bonus}\")"
   ]
  },
  {
   "cell_type": "code",
   "execution_count": 14,
   "metadata": {},
   "outputs": [
    {
     "name": "stdout",
     "output_type": "stream",
     "text": [
      "獎金:1000\n"
     ]
    }
   ],
   "source": [
    "chinese= int(input(\"請輸入國文分數\"))\n",
    "math= int(input(\"請輸入數學分數\"))\n",
    "#使用邏輯運算子\n",
    "bonus=0\n",
    "#錯誤的寫法，嚴格的寫在上方\n",
    "if  chinese == 100 or math ==100:\n",
    "    bonus=1000\n",
    "elif chinese == 100 and math ==100:\n",
    "    bonus=500\n",
    "print(f\"獎金:{bonus}\")"
   ]
  },
  {
   "cell_type": "code",
   "execution_count": 15,
   "metadata": {},
   "outputs": [
    {
     "name": "stdout",
     "output_type": "stream",
     "text": [
      "血壓不正常\n"
     ]
    }
   ],
   "source": [
    "presure=int(input(\"請輸入血壓\"))\n",
    "if presure >=80 and presure <=120:\n",
    "    print(\"血壓正常\")\n",
    "else:\n",
    "    print(\"血壓不正常\")"
   ]
  },
  {
   "cell_type": "code",
   "execution_count": 18,
   "metadata": {},
   "outputs": [
    {
     "name": "stdout",
     "output_type": "stream",
     "text": [
      "血壓正常\n"
     ]
    }
   ],
   "source": [
    "presure=int(input(\"請輸入血壓\"))\n",
    "if presure < 80 or presure > 120:\n",
    "    print(\"血壓不正常\")\n",
    "else:\n",
    "    print(\"血壓正常\")"
   ]
  }
 ],
 "metadata": {
  "kernelspec": {
   "display_name": "Python 3",
   "language": "python",
   "name": "python3"
  },
  "language_info": {
   "codemirror_mode": {
    "name": "ipython",
    "version": 3
   },
   "file_extension": ".py",
   "mimetype": "text/x-python",
   "name": "python",
   "nbconvert_exporter": "python",
   "pygments_lexer": "ipython3",
   "version": "3.10.14"
  }
 },
 "nbformat": 4,
 "nbformat_minor": 2
}
