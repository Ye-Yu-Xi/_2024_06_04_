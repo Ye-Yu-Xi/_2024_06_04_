{
 "cells": [
  {
   "cell_type": "code",
   "execution_count": 12,
   "metadata": {},
   "outputs": [],
   "source": [
    "#第6堂:\n",
    "#while的應用 不知道知道執行的次數：1.建立一個被比較的變數  2.while + 比較變數  3.改變變數的內容(沒有規則性的改變)\n",
    "#               明確知道執行幾次：1.建立一個被比較的變數  2.while + 比較變數  3.改變變數的內容(規則性的改變)"
   ]
  },
  {
   "cell_type": "code",
   "execution_count": 6,
   "metadata": {},
   "outputs": [
    {
     "name": "stdout",
     "output_type": "stream",
     "text": [
      "1\n",
      "2\n",
      "3\n",
      "4\n",
      "5\n"
     ]
    }
   ],
   "source": [
    "#列印5次\n",
    "#列印出1~5次\n",
    "\n",
    "for i in range(1,6):\n",
    "    print(i)"
   ]
  },
  {
   "cell_type": "code",
   "execution_count": 11,
   "metadata": {},
   "outputs": [
    {
     "name": "stdout",
     "output_type": "stream",
     "text": [
      "1\n",
      "2\n",
      "3\n",
      "4\n",
      "5\n",
      "程式結束\n"
     ]
    }
   ],
   "source": [
    "#列印5次\n",
    "#列印出1~5次\n",
    "#while明確知道執行幾次：1.建立一個被比較的變數  2.while + 比較變數  3.改變變數的內容(規則性的改變)\n",
    "count =1\n",
    "while count <= 5:  \n",
    "    print(count)\n",
    "    count += 1      #每次都加1，1+1=2 2+1=3 3+1=4 4+1=5 5+1=6得到false跳出迴圈\n",
    "\n",
    "print(\"程式結束\")"
   ]
  },
  {
   "cell_type": "code",
   "execution_count": 3,
   "metadata": {},
   "outputs": [
    {
     "name": "stdout",
     "output_type": "stream",
     "text": [
      "恭喜!已經存夠了，存了1個月存款為30000元\n"
     ]
    }
   ],
   "source": [
    "#小明想要存錢買一輛機車，機車每輛30000元，他將每月存的錢輸入，當存款足夠買機車時，就顯示提示訊息告知。\n",
    "moto_price = 30000\n",
    "deposit = 0\n",
    "month =0\n",
    "while(deposit < 30000) :\n",
    "    month += 1\n",
    "    save= int(input(f\"請輸入{month}個月的存款是:\"))\n",
    "    deposit += save\n",
    "print(f\"恭喜!已經存夠了，存了{month}個月存款為{deposit}元\")\n"
   ]
  },
  {
   "cell_type": "code",
   "execution_count": 2,
   "metadata": {},
   "outputs": [
    {
     "name": "stdout",
     "output_type": "stream",
     "text": [
      "1\n",
      "2\n",
      "3\n",
      "4\n",
      "5\n"
     ]
    }
   ],
   "source": [
    "#使用break跳出迴圈  #有True一定要有break\n",
    "count =1\n",
    "while True:\n",
    "    print(count)\n",
    "    count += 1\n",
    "    if count > 5 :\n",
    "     break"
   ]
  },
  {
   "cell_type": "code",
   "execution_count": 4,
   "metadata": {},
   "outputs": [
    {
     "name": "stdout",
     "output_type": "stream",
     "text": [
      "恭喜!已經存夠了，存了2個月存款為46912元\n"
     ]
    }
   ],
   "source": [
    "#使用break跳出迴圈\n",
    "moto_price = 30000\n",
    "deposit = 0\n",
    "month = 0\n",
    "while True :\n",
    "    month += 1\n",
    "    save= int(input(f\"請輸入{month}個月的存款是:\"))\n",
    "    deposit += save\n",
    "    if deposit >= 30000:\n",
    "        break\n",
    "\n",
    "print(f\"恭喜!已經存夠了，存了{month}個月存款為{deposit}元\")"
   ]
  },
  {
   "cell_type": "code",
   "execution_count": 9,
   "metadata": {},
   "outputs": [
    {
     "name": "stdout",
     "output_type": "stream",
     "text": [
      "輸入的次數是3,所有輸入的正偶數的加總是8\n"
     ]
    }
   ],
   "source": [
    "#break\n",
    "#continue\n",
    "#請設計一個程式，讓使用者輸入數值，只有加總正偶數值，不加正基數值，如果輸入負數，結束程式。\n",
    "sum =0   #代表加總的數值\n",
    "num=0    #代表輸入的次數，一開始為0\n",
    "while True:\n",
    "    input_value =int(input(f\"請輸入第{num+1}個數值\"))\n",
    "    if input_value < 0:\n",
    "        break\n",
    "    num += 1\n",
    "    if input_value % 2 ==1:\n",
    "        continue\n",
    "    sum += input_value\n",
    "\n",
    "\n",
    "print(f\"輸入的次數是{num},所有輸入的正偶數的加總是{sum}\")"
   ]
  }
 ],
 "metadata": {
  "kernelspec": {
   "display_name": "Python 3",
   "language": "python",
   "name": "python3"
  },
  "language_info": {
   "codemirror_mode": {
    "name": "ipython",
    "version": 3
   },
   "file_extension": ".py",
   "mimetype": "text/x-python",
   "name": "python",
   "nbconvert_exporter": "python",
   "pygments_lexer": "ipython3",
   "version": "3.10.14"
  }
 },
 "nbformat": 4,
 "nbformat_minor": 2
}
