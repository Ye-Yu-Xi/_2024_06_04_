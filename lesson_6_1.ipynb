{
 "cells": [
  {
   "cell_type": "code",
   "execution_count": 12,
   "metadata": {},
   "outputs": [],
   "source": [
    "#第6堂:\n",
    "#while的應用 不知道知道執行的次數：1.建立一個被比較的變數  2.while + 比較變數  3.改變變數的內容(沒有規則性的改變)\n",
    "#               明確知道執行幾次：1.建立一個被比較的變數  2.while + 比較變數  3.改變變數的內容(規則性的改變)"
   ]
  },
  {
   "cell_type": "code",
   "execution_count": 6,
   "metadata": {},
   "outputs": [
    {
     "name": "stdout",
     "output_type": "stream",
     "text": [
      "1\n",
      "2\n",
      "3\n",
      "4\n",
      "5\n"
     ]
    }
   ],
   "source": [
    "#列印5次\n",
    "#列印出1~5次\n",
    "\n",
    "for i in range(1,6):\n",
    "    print(i)"
   ]
  },
  {
   "cell_type": "code",
   "execution_count": 11,
   "metadata": {},
   "outputs": [
    {
     "name": "stdout",
     "output_type": "stream",
     "text": [
      "1\n",
      "2\n",
      "3\n",
      "4\n",
      "5\n",
      "程式結束\n"
     ]
    }
   ],
   "source": [
    "#列印5次\n",
    "#列印出1~5次\n",
    "#while明確知道執行幾次：1.建立一個被比較的變數  2.while + 比較變數  3.改變變數的內容(規則性的改變)\n",
    "count =1\n",
    "while count <= 5:  \n",
    "    print(count)\n",
    "    count += 1      #每次都加1，1+1=2 2+1=3 3+1=4 4+1=5 5+1=6得到false跳出迴圈\n",
    "\n",
    "print(\"程式結束\")"
   ]
  },
  {
   "cell_type": "code",
   "execution_count": 14,
   "metadata": {},
   "outputs": [
    {
     "name": "stdout",
     "output_type": "stream",
     "text": [
      "恭喜!已經存夠了，存了2個月存款為70000元\n"
     ]
    }
   ],
   "source": [
    "#小明想要存錢買一輛機車，機車每輛30000元，他將每月存的錢輸入，當存款足夠買機車時，就顯示提示訊息告知。\n",
    "moto_price = 30000\n",
    "deposit = 0\n",
    "month =0\n",
    "while(deposit < 30000) :\n",
    "    month += 1\n",
    "    save= int(input(f\"請輸入{month}個月的存款是:\"))\n",
    "    deposit += save\n",
    "print(f\"恭喜!已經存夠了，存了{month}個月存款為{deposit}元\")\n"
   ]
  }
 ],
 "metadata": {
  "kernelspec": {
   "display_name": "Python 3",
   "language": "python",
   "name": "python3"
  },
  "language_info": {
   "codemirror_mode": {
    "name": "ipython",
    "version": 3
   },
   "file_extension": ".py",
   "mimetype": "text/x-python",
   "name": "python",
   "nbconvert_exporter": "python",
   "pygments_lexer": "ipython3",
   "version": "3.10.14"
  }
 },
 "nbformat": 4,
 "nbformat_minor": 2
}
