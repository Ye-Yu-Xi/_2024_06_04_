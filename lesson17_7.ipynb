{
 "cells": [
  {
   "cell_type": "code",
   "execution_count": null,
   "metadata": {},
   "outputs": [],
   "source": [
    "#到老師的github下載world.csv"
   ]
  },
  {
   "cell_type": "code",
   "execution_count": null,
   "metadata": {},
   "outputs": [],
   "source": [
    "import pandas as pd\n",
    "\n",
    "df = pd.read_csv('world.csv')   #讀取csv檔\n",
    "all_DataFrame = df[['洲名','國家','日期','總確診數','新增確診數','總人口數','解封指數']]    #UC小筆記:df忘記為甚麼這樣呼叫，可以去看17_4\n",
    "taiwan = all_DataFrame[all_DataFrame[\"國家\"] == \"台灣\"]  #篩選出國家=台灣的資料  UC小筆記:df忘記為甚麼是這樣篩選，可以去看17_6\n",
    "taiwan  #傳出新的DataFrame"
   ]
  },
  {
   "cell_type": "code",
   "execution_count": null,
   "metadata": {},
   "outputs": [],
   "source": [
    "#新增確診數>5萬人\n",
    "taiwan[taiwan[\"新增確診數\"] >=50000]"
   ]
  },
  {
   "cell_type": "code",
   "execution_count": null,
   "metadata": {},
   "outputs": [],
   "source": [
    "#取出最多新增確診數\n",
    "#taiwan[\"新增確診數\"]  ←是Series 不只可以做運算,還可以統計\n",
    "max =taiwan[\"新增確診數\"].max()     #用函數用找出最大值\n",
    "taiwan[taiwan['新增確診數'] == max]  #顯示新增確診數=最大值的是哪一筆"
   ]
  },
  {
   "cell_type": "code",
   "execution_count": null,
   "metadata": {},
   "outputs": [],
   "source": [
    "#query() ←是一種搜尋方法\n",
    "japan = all_DataFrame.query('國家==\"日本\"')  #注意:1.query()裡面只能放字串 2.外面誒用單引號''裡面只能用雙引號\"\"\n",
    "japan"
   ]
  },
  {
   "cell_type": "code",
   "execution_count": null,
   "metadata": {},
   "outputs": [],
   "source": [
    "max =japan[\"新增確診數\"].max()     #用函數用找出最大值\n",
    "japan[japan['新增確診數'] == max]"
   ]
  }
 ],
 "metadata": {
  "kernelspec": {
   "display_name": "Python 3",
   "language": "python",
   "name": "python3"
  },
  "language_info": {
   "codemirror_mode": {
    "name": "ipython",
    "version": 3
   },
   "file_extension": ".py",
   "mimetype": "text/x-python",
   "name": "python",
   "nbconvert_exporter": "python",
   "pygments_lexer": "ipython3",
   "version": "3.10.14"
  }
 },
 "nbformat": 4,
 "nbformat_minor": 2
}
