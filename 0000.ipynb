{
 "cells": [
  {
   "cell_type": "code",
   "execution_count": 2,
   "metadata": {},
   "outputs": [
    {
     "name": "stdout",
     "output_type": "stream",
     "text": [
      "蛋餅配豆漿\n",
      "蛋餅配紅茶\n",
      "蛋餅配奶茶\n",
      "總共有3種套餐組合\n",
      "三明治配豆漿\n",
      "三明治配紅茶\n",
      "三明治配奶茶\n",
      "總共有6種套餐組合\n",
      "漢堡配豆漿\n",
      "漢堡配紅茶\n",
      "漢堡配奶茶\n",
      "總共有9種套餐組合\n",
      "飯糰配豆漿\n",
      "飯糰配紅茶\n",
      "飯糰配奶茶\n",
      "總共有12種套餐組合\n"
     ]
    }
   ],
   "source": [
    "早餐 = ['蛋餅','三明治','漢堡','飯糰']\n",
    "飲料 = ['豆漿', '紅茶', '奶茶']\n",
    "數量 = 0\n",
    "for 餐點 in 早餐:\n",
    "    for 飲品 in 飲料:\n",
    "        print(f\"{餐點}配{飲品}\")\n",
    "        數量 += 1\n",
    "    print(f'總共有{數量}種套餐組合')\n",
    "\n"
   ]
  },
  {
   "cell_type": "code",
   "execution_count": 3,
   "metadata": {},
   "outputs": [
    {
     "name": "stdout",
     "output_type": "stream",
     "text": [
      "訂單資料為\n"
     ]
    }
   ],
   "source": [
    "#讓輸入者使用鋼板類型/尺寸\n",
    "type = input('請輸入鋼板類型:1.傳統鋼板 2.智能鋼板')\n",
    "size = input('請輸入鋼板尺寸:1.650X550 2.736X736 3.其他')\n",
    "t = input('請輸入鋼板厚度:1.0.1mm 2.0.12mm 3.0.15mm 4.0.2mm 5.其他')\n",
    "\n",
    "\n",
    "print(f'訂單資料為{type}{t}{size}')"
   ]
  },
  {
   "cell_type": "code",
   "execution_count": 4,
   "metadata": {},
   "outputs": [
    {
     "name": "stdout",
     "output_type": "stream",
     "text": [
      "智能鋼板\n"
     ]
    }
   ],
   "source": [
    "type = input('請輸入鋼板類型: a.傳統鋼板 b.智能鋼板')\n",
    "size = input('請輸入鋼板尺寸:1.650X550 2.736X736 3.其他')\n",
    "t = input('請輸入鋼板厚度:1.0.1mm 2.0.12mm 3.0.15mm 4.0.2mm 5.其他')\n",
    "if type == \"a\":\n",
    "    print(\"傳統鋼板\")\n",
    "    \n",
    "else:\n",
    "    print(\"智能鋼板\")\n"
   ]
  },
  {
   "cell_type": "code",
   "execution_count": 5,
   "metadata": {},
   "outputs": [
    {
     "name": "stdout",
     "output_type": "stream",
     "text": [
      "{'傳統鋼板'}\n"
     ]
    }
   ],
   "source": [
    "a ='傳統鋼板'\n",
    "b ='智能鋼板'\n",
    "type = input('(a)傳統鋼板(b)智能鋼板:')\n",
    "size = input('(1)650x550 (2)736x736 (3)650X650 (4)860X650 (5)其他')\n",
    "thk= input ('(1)0.08mm (2)0.1mm (3)0.12mm (4)0.15mm (5)0.2mm (6)其他')\n",
    "\n",
    "if type == 'b' :\n",
    "    print({b})\n",
    "    other_size =input('請輸入鋼板尺寸:')\n",
    "    if other_size == '1':\n",
    "        print(f'{b}650x550')\n",
    "else:\n",
    "    print({a})\n"
   ]
  }
 ],
 "metadata": {
  "kernelspec": {
   "display_name": "Python 3",
   "language": "python",
   "name": "python3"
  },
  "language_info": {
   "codemirror_mode": {
    "name": "ipython",
    "version": 3
   },
   "file_extension": ".py",
   "mimetype": "text/x-python",
   "name": "python",
   "nbconvert_exporter": "python",
   "pygments_lexer": "ipython3",
   "version": "3.10.14"
  }
 },
 "nbformat": 4,
 "nbformat_minor": 2
}
