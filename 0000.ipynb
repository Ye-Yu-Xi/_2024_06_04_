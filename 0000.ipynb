{
 "cells": [
  {
   "cell_type": "code",
   "execution_count": null,
   "metadata": {},
   "outputs": [],
   "source": [
    "早餐 = ['蛋餅','三明治','漢堡','飯糰']\n",
    "飲料 = ['豆漿', '紅茶', '奶茶']\n",
    "數量 = 0\n",
    "for 餐點 in 早餐:\n",
    "    for 飲品 in 飲料:\n",
    "        print(f\"{餐點}配{飲品}\")\n",
    "        數量 += 1\n",
    "    print(f'總共有{數量}種套餐組合')\n",
    "\n"
   ]
  },
  {
   "cell_type": "code",
   "execution_count": 54,
   "metadata": {},
   "outputs": [
    {
     "name": "stdout",
     "output_type": "stream",
     "text": [
      "訂單資料為231\n"
     ]
    }
   ],
   "source": [
    "#讓輸入者使用鋼板類型/尺寸\n",
    "type = input('請輸入鋼板類型:1.傳統鋼板 2.智能鋼板')\n",
    "size = input('請輸入鋼板尺寸:1.650X550 2.736X736 3.其他')\n",
    "t = input('請輸入鋼板厚度:1.0.1mm 2.0.12mm 3.0.15mm 4.0.2mm 5.其他')\n",
    "\n",
    "\n",
    "print(f'訂單資料為{type}{t}{size}')"
   ]
  },
  {
   "cell_type": "code",
   "execution_count": 68,
   "metadata": {},
   "outputs": [
    {
     "name": "stdout",
     "output_type": "stream",
     "text": [
      "傳統鋼板\n"
     ]
    }
   ],
   "source": [
    "type = input('請輸入鋼板類型: a.傳統鋼板 b.智能鋼板')\n",
    "size = input('請輸入鋼板尺寸:1.650X550 2.736X736 3.其他')\n",
    "t = input('請輸入鋼板厚度:1.0.1mm 2.0.12mm 3.0.15mm 4.0.2mm 5.其他')\n",
    "if type == \"a\":\n",
    "    print(\"傳統鋼板\")\n",
    "    \n",
    "else:\n",
    "    print(\"智能鋼板\")\n"
   ]
  },
  {
   "cell_type": "code",
   "execution_count": 102,
   "metadata": {},
   "outputs": [
    {
     "ename": "SyntaxError",
     "evalue": "invalid syntax (4019921151.py, line 10)",
     "output_type": "error",
     "traceback": [
      "\u001b[0;36m  Cell \u001b[0;32mIn[102], line 10\u001b[0;36m\u001b[0m\n\u001b[0;31m    elif:\u001b[0m\n\u001b[0m        ^\u001b[0m\n\u001b[0;31mSyntaxError\u001b[0m\u001b[0;31m:\u001b[0m invalid syntax\n"
     ]
    }
   ],
   "source": [
    "a = '傳統鋼板'\n",
    "b = '智能鋼板'\n",
    "one = '650X550'\n",
    "two = '736X736'\n",
    "type = input('請輸入鋼板類型: a.傳統鋼板 b.智能鋼板:')\n",
    "if type == \"a\":\n",
    "    size = input('請輸入鋼板尺寸:1.650X550 2.736X736 3.其他:')\n",
    "    if size == '1' or '650X550':\n",
    "        print(f\"{a}{one}\")\n",
    "    elif:\n",
    "        print(f\"{b}{two}\")\n",
    "    else:\n",
    "        other_size = input('請輸入其他鋼板尺寸:')\n",
    "        print(f\"{b}{other_size}\")\n",
    "else:\n",
    "    print(\"智能鋼板\")\n"
   ]
  }
 ],
 "metadata": {
  "kernelspec": {
   "display_name": "Python 3",
   "language": "python",
   "name": "python3"
  },
  "language_info": {
   "codemirror_mode": {
    "name": "ipython",
    "version": 3
   },
   "file_extension": ".py",
   "mimetype": "text/x-python",
   "name": "python",
   "nbconvert_exporter": "python",
   "pygments_lexer": "ipython3",
   "version": "3.10.14"
  }
 },
 "nbformat": 4,
 "nbformat_minor": 2
}
