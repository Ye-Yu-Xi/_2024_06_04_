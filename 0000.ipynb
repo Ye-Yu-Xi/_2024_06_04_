{
 "cells": [
  {
   "cell_type": "code",
   "execution_count": 4,
   "metadata": {},
   "outputs": [
    {
     "name": "stdout",
     "output_type": "stream",
     "text": [
      "蛋餅配豆漿\n",
      "蛋餅配紅茶\n",
      "蛋餅配奶茶\n",
      "總共有3種套餐組合\n",
      "三明治配豆漿\n",
      "三明治配紅茶\n",
      "三明治配奶茶\n",
      "總共有6種套餐組合\n",
      "漢堡配豆漿\n",
      "漢堡配紅茶\n",
      "漢堡配奶茶\n",
      "總共有9種套餐組合\n",
      "飯糰配豆漿\n",
      "飯糰配紅茶\n",
      "飯糰配奶茶\n",
      "總共有12種套餐組合\n"
     ]
    }
   ],
   "source": [
    "早餐 = ['蛋餅','三明治','漢堡','飯糰']\n",
    "飲料 = ['豆漿', '紅茶', '奶茶']\n",
    "數量 = 0\n",
    "for 餐點 in 早餐:\n",
    "    for 飲品 in 飲料:\n",
    "        print(f\"{餐點}配{飲品}\")\n",
    "        數量 += 1\n",
    "    print(f'總共有{數量}種套餐組合')\n",
    "\n"
   ]
  }
 ],
 "metadata": {
  "kernelspec": {
   "display_name": "Python 3",
   "language": "python",
   "name": "python3"
  },
  "language_info": {
   "codemirror_mode": {
    "name": "ipython",
    "version": 3
   },
   "file_extension": ".py",
   "mimetype": "text/x-python",
   "name": "python",
   "nbconvert_exporter": "python",
   "pygments_lexer": "ipython3",
   "version": "3.10.14"
  }
 },
 "nbformat": 4,
 "nbformat_minor": 2
}
