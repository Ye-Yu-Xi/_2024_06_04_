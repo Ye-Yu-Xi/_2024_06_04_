{
 "cells": [
  {
   "cell_type": "code",
   "execution_count": null,
   "metadata": {},
   "outputs": [],
   "source": [
    "#19_1.ipynb課程重點\n",
    "#Series、DataFrame--sort_index()的應用\n",
    "#15:10運算子圖表"
   ]
  },
  {
   "cell_type": "code",
   "execution_count": null,
   "metadata": {},
   "outputs": [],
   "source": [
    "import pandas as pd\n",
    "import numpy as np\n",
    "\n",
    "s1 = pd.Series([7.3, -2.5, 3.4, 1.5],index=['a', 'c', 'd', 'e'])\n",
    "s2 = pd.Series([-2.1, 3.6, -1.5, 4 , 3.1],index=['a', 'c', 'e', 'f', 'g'])\n",
    "display(s1)\n",
    "display(s2)\n",
    "#使用數學運算子的運算\n",
    "display(s1 +s2)  #如果擺在程式碼最後一行則預設有display,故不用再加  #任何數+NaN=NaN\n",
    "#使用數學運算子的運算\n",
    "s1.add(s2,fill_value=0)   #Series的方法add:用來相加 fill_value=0代表值為NaN的,幫我變成0"
   ]
  },
  {
   "cell_type": "code",
   "execution_count": null,
   "metadata": {},
   "outputs": [],
   "source": [
    "#18:14 排序和排名\n",
    "#排序:sort_index 、 sort_index() 有兩個實體方法\n",
    "#排名:rank()"
   ]
  },
  {
   "cell_type": "code",
   "execution_count": null,
   "metadata": {},
   "outputs": [],
   "source": [
    "#sort_index()\n",
    "s1 =pd.Series(range(4),index=['d','a','b','c'])\n",
    "display(s1)\n",
    "display(s1.sort_index())   #依照索引由小到大排序(英文可以排,中文字不行)\n",
    "display(s1.sort_index(ascending=False))  "
   ]
  },
  {
   "cell_type": "code",
   "execution_count": null,
   "metadata": {},
   "outputs": [],
   "source": [
    "#DataFrame"
   ]
  },
  {
   "cell_type": "code",
   "execution_count": null,
   "metadata": {},
   "outputs": [],
   "source": [
    "frame = pd.DataFrame(np.arange(8).reshape((2,4)),  #reshape改變維度,2列4欄\n",
    "             index = ['three', 'one'],\n",
    "             columns=['d', 'a', 'b', 'c']\n",
    "             )\n",
    "frame"
   ]
  },
  {
   "cell_type": "code",
   "execution_count": null,
   "metadata": {},
   "outputs": [],
   "source": [
    "display(frame)\n",
    "display(frame.sort_index())      #sort_index()改變索引排序\n",
    "display(frame.sort_index(axis='columns'))   #sort_index(axis='columns')改變欄位排序 columns可改成1,結果是一樣的\n",
    "#index的英文(three、one)是看字母\"開頭\"順序排的"
   ]
  },
  {
   "cell_type": "code",
   "execution_count": null,
   "metadata": {},
   "outputs": [],
   "source": [
    "s3 = pd.Series([4, 7, -3, 2])\n",
    "display(s3)\n",
    "display(s3.sort_values())\n",
    "display(s3.sort_values(ascending=False)) #預設ascending=Ture代表數值由小到大,我把它設定=False數值由大到小"
   ]
  },
  {
   "cell_type": "code",
   "execution_count": null,
   "metadata": {},
   "outputs": [],
   "source": [
    "#33:30~39:32 #外面dict{[]}裡面是list\n",
    "frame = pd.DataFrame({'b':[4, 7, -3, 2],\n",
    "                'a':[0, 1, 0, 1]\n",
    "                })\n",
    "display(frame)\n",
    "display(frame.sort_values(by='b'))  #先排序b數值\n",
    "display(frame.sort_values(by=['a','b']))  #先排序a數值、再排序b數值"
   ]
  },
  {
   "cell_type": "code",
   "execution_count": null,
   "metadata": {},
   "outputs": [],
   "source": [
    "#41:00\n",
    "#rank"
   ]
  }
 ],
 "metadata": {
  "kernelspec": {
   "display_name": "Python 3",
   "language": "python",
   "name": "python3"
  },
  "language_info": {
   "codemirror_mode": {
    "name": "ipython",
    "version": 3
   },
   "file_extension": ".py",
   "mimetype": "text/x-python",
   "name": "python",
   "nbconvert_exporter": "python",
   "pygments_lexer": "ipython3",
   "version": "3.10.14"
  }
 },
 "nbformat": 4,
 "nbformat_minor": 2
}
