{
 "cells": [
  {
   "cell_type": "code",
   "execution_count": null,
   "metadata": {},
   "outputs": [],
   "source": [
    "#url = 'https://data.gov.tw/datasets/search?p=1&size=10&s=_score_desc&rft=%E5%90%84%E9%84%89%E9%8E%AE%E5%B8%82%E5%8D%80%E4%BA%BA%E5%8F%A3%E5%AF%86%E5%BA%A6?format=cvs'"
   ]
  },
  {
   "cell_type": "code",
   "execution_count": null,
   "metadata": {},
   "outputs": [],
   "source": [
    "#18_4課堂重點:1.從網路上抓網址下載csv轉成cvs-list-DataFrame 2.把資料做整理subscript、reindex、drop\n",
    "#新的StringIO"
   ]
  },
  {
   "cell_type": "code",
   "execution_count": null,
   "metadata": {},
   "outputs": [],
   "source": [
    "#因老師當初的網址,我用有問題,所以資料叫不出來\n",
    "import requests\n",
    "url = 'https://sheethub.com/data.gov.tw/%E5%90%84%E9%84%89%E9%8E%AE%E5%B8%82%E5%8D%80%E4%BA%BA%E5%8F%A3%E5%AF%86%E5%BA%A6?format=cvs'\n",
    "response = requests.request('GET',url)\n",
    "if response.ok:\n",
    "    print(\"下載成功\")\n"
   ]
  },
  {
   "cell_type": "code",
   "execution_count": null,
   "metadata": {},
   "outputs": [],
   "source": [
    "#這些是從網路上下載的\n",
    "from io import StringIO\n",
    "import csv\n",
    "\n",
    "file = StringIO(response.text)    #抓到字串,轉成file物件\n",
    "csv_reader =csv.reader(file)    #用csv.reader轉成csv_reader\n",
    "data = list(csv_reader)   #轉成二維list\n",
    "data\n"
   ]
  },
  {
   "cell_type": "code",
   "execution_count": null,
   "metadata": {},
   "outputs": [],
   "source": [
    "import pandas as pd   \n",
    "\n",
    "frame = pd.DataFrame(data)   #轉成DataFrame\n",
    "frame"
   ]
  },
  {
   "cell_type": "code",
   "execution_count": null,
   "metadata": {},
   "outputs": [],
   "source": [
    "frame.columns = frame.iloc[0]  #我把取出的這列資料,蓋住原本的欄位\n",
    "frame1 = frame.drop(index=0)  #移除索引編號0的資料列。移除多筆的話()內可用list\n",
    "#忘記drop基礎應用,可看18_3"
   ]
  },
  {
   "cell_type": "code",
   "execution_count": null,
   "metadata": {},
   "outputs": [],
   "source": [
    "frame1.info() #檢查資料的資訊"
   ]
  },
  {
   "cell_type": "code",
   "execution_count": null,
   "metadata": {},
   "outputs": [],
   "source": [
    "frame1.index = frame1['區域別']   #抓區域別的內容,蓋住原本的索引\n",
    "frame1[['年底人口數','土地面積','人口密度']] #只顯示我抓的左邊欄位資料"
   ]
  },
  {
   "cell_type": "code",
   "execution_count": null,
   "metadata": {},
   "outputs": [],
   "source": [
    "frame2 =frame1.reindex[columns=['年底人口數','土地面積','人口密度']]  #結果是跟上方程式碼一樣的\n",
    "frame2\n",
    "#忘記reindex基礎應用,可看18_2"
   ]
  },
  {
   "cell_type": "code",
   "execution_count": null,
   "metadata": {},
   "outputs": [],
   "source": [
    "frame2.info() #檢查出來 資料型別是錯誤的\n",
    "#2:51:24"
   ]
  },
  {
   "cell_type": "code",
   "execution_count": null,
   "metadata": {},
   "outputs": [],
   "source": [
    "frame2[frame2['年底人口數'] == \"…\"]  #用subscript找出內容'…'的資料列"
   ]
  },
  {
   "cell_type": "code",
   "execution_count": null,
   "metadata": {},
   "outputs": [],
   "source": [
    "frame3 = frame2.drop(index=['東沙群島','南沙群島']) #移除上面找出的兩筆資料\n",
    "frame3"
   ]
  },
  {
   "cell_type": "code",
   "execution_count": null,
   "metadata": {},
   "outputs": [],
   "source": [
    "frame3['年底人口數'] = frame3['年底人口數'].astype(int)  #astype()是轉換資料類型的函數"
   ]
  },
  {
   "cell_type": "code",
   "execution_count": null,
   "metadata": {},
   "outputs": [],
   "source": [
    "frame3['土地面積'] = frame3['土地面積'].astype(float) "
   ]
  },
  {
   "cell_type": "code",
   "execution_count": null,
   "metadata": {},
   "outputs": [],
   "source": [
    "frame3['人口密度'] = frame3['人口密度'].astype(int) "
   ]
  },
  {
   "cell_type": "code",
   "execution_count": null,
   "metadata": {},
   "outputs": [],
   "source": [
    "display(frame3)\n",
    "frame3.info() #再檢查一次資料類型對不對"
   ]
  }
 ],
 "metadata": {
  "kernelspec": {
   "display_name": "Python 3",
   "language": "python",
   "name": "python3"
  },
  "language_info": {
   "codemirror_mode": {
    "name": "ipython",
    "version": 3
   },
   "file_extension": ".py",
   "mimetype": "text/x-python",
   "name": "python",
   "nbconvert_exporter": "python",
   "pygments_lexer": "ipython3",
   "version": "3.10.14"
  }
 },
 "nbformat": 4,
 "nbformat_minor": 2
}
