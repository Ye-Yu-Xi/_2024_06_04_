{
 "cells": [
  {
   "cell_type": "code",
   "execution_count": 9,
   "metadata": {},
   "outputs": [
    {
     "name": "stdout",
     "output_type": "stream",
     "text": [
      "梯形的面積:477376.20平方公分\n"
     ]
    }
   ],
   "source": [
    "#讓使用者輸入梯形的上底、下底及高程式會計算梯形的面積(上底加下底除以高除以2)\n",
    "top=float(input('請輸入梯形的上底(公分)'))\n",
    "bottom=float(input('請輸入梯形的下底(公分)'))\n",
    "height=float(input('請輸入梯形的高(公分)'))\n",
    "area= (top+ bottom)*height/2\n",
    "#print('梯形的面積',round(area,ndigits=2),\"平方公分\")\n",
    "print(f'梯形的面積:{area:.2f}平方公分')"
   ]
  },
  {
   "cell_type": "code",
   "execution_count": 14,
   "metadata": {},
   "outputs": [
    {
     "name": "stdout",
     "output_type": "stream",
     "text": [
      "我有3個apple,5個apple,共有8水果\n"
     ]
    }
   ],
   "source": [
    "#print(f\"\")→代表字串差補，也就是輸出句子時中間不要有空白的地方，(f\"\")引號的內容變成一個字串\n",
    "apple=3\n",
    "orange=5\n",
    "\n",
    "#print(\"我有\",apple,\"個apple\")\n",
    "print(f\"我有{apple}個apple,{orange}個apple,共有{orange+apple}水果\")"
   ]
  }
 ],
 "metadata": {
  "kernelspec": {
   "display_name": "Python 3",
   "language": "python",
   "name": "python3"
  },
  "language_info": {
   "codemirror_mode": {
    "name": "ipython",
    "version": 3
   },
   "file_extension": ".py",
   "mimetype": "text/x-python",
   "name": "python",
   "nbconvert_exporter": "python",
   "pygments_lexer": "ipython3",
   "version": "3.10.14"
  }
 },
 "nbformat": 4,
 "nbformat_minor": 2
}
