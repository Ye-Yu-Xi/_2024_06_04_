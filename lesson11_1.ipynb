{
 "cells": [
  {
   "cell_type": "code",
   "execution_count": 1,
   "metadata": {},
   "outputs": [],
   "source": [
    "#第十一堂重點 : 二維list"
   ]
  },
  {
   "cell_type": "code",
   "execution_count": 2,
   "metadata": {},
   "outputs": [
    {
     "data": {
      "text/plain": [
       "[['楊偉翔', 62, 96, 73, 84, 62]]"
      ]
     },
     "execution_count": 2,
     "metadata": {},
     "output_type": "execute_result"
    }
   ],
   "source": [
    "import random\n",
    "def get_score() -> list :\n",
    "    score = []\n",
    "    for i in range(5):\n",
    "        score.append(random.randint(50, 100))   #list裡有個實體方法append\n",
    "    return score\n",
    "\n",
    "nums_int =int(input(\"請輸入學生數:\"))\n",
    "#取得nums_int個姓名\n",
    "with open('names.txt',encoding='utf-8',newline='') as file:\n",
    "    names_str = file.read()\n",
    "    all_names_list = names_str.split(sep=\"\\n\")\n",
    "    names_list = random.choices(all_names_list,k=nums_int) #取出一定數量的姓名\n",
    "\n",
    "\n",
    "students = []\n",
    "for i in range(nums_int):\n",
    "    scores = get_score()\n",
    "    new_list = [names_list[i]] + scores\n",
    "    students.append(new_list)\n",
    "students\n"
   ]
  },
  {
   "cell_type": "code",
   "execution_count": 3,
   "metadata": {},
   "outputs": [
    {
     "data": {
      "text/plain": [
       "['楊緯停', 88, 77, 63, 82]"
      ]
     },
     "execution_count": 3,
     "metadata": {},
     "output_type": "execute_result"
    }
   ],
   "source": [
    "['楊緯停'] + [88, 77, 63, 82,]"
   ]
  }
 ],
 "metadata": {
  "kernelspec": {
   "display_name": "Python 3",
   "language": "python",
   "name": "python3"
  },
  "language_info": {
   "codemirror_mode": {
    "name": "ipython",
    "version": 3
   },
   "file_extension": ".py",
   "mimetype": "text/x-python",
   "name": "python",
   "nbconvert_exporter": "python",
   "pygments_lexer": "ipython3",
   "version": "3.10.14"
  }
 },
 "nbformat": 4,
 "nbformat_minor": 2
}
