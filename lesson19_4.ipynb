{
 "cells": [
  {
   "cell_type": "code",
   "execution_count": null,
   "metadata": {},
   "outputs": [],
   "source": [
    "#2:03:35\n",
    "#複製18_4\n",
    "#因老師當初的網址,我用有問題,所以資料叫不出來\n",
    "import requests\n",
    "url = 'https://sheethub.com/data.gov.tw/%E5%90%84%E9%84%89%E9%8E%AE%E5%B8%82%E5%8D%80%E4%BA%BA%E5%8F%A3%E5%AF%86%E5%BA%A6?format=cvs'\n",
    "response = requests.request('GET',url)\n",
    "if response.ok:\n",
    "    print(\"下載成功\")"
   ]
  },
  {
   "cell_type": "code",
   "execution_count": null,
   "metadata": {},
   "outputs": [],
   "source": [
    "#複製18_4\n",
    "import pandas as pd   \n",
    "\n",
    "frame = pd.DataFrame(data)   #轉成DataFrame\n",
    "frame"
   ]
  },
  {
   "cell_type": "code",
   "execution_count": null,
   "metadata": {},
   "outputs": [],
   "source": [
    "#複製18_4\n",
    "frame.columns = frame.iloc[0]  #我把取出的這列資料,蓋住原本的欄位\n",
    "frame1 = frame.drop(index=0)  #移除索引編號0的資料列。移除多筆的話()內可用list\n",
    "#忘記drop基礎應用,可看18_3"
   ]
  },
  {
   "cell_type": "code",
   "execution_count": null,
   "metadata": {},
   "outputs": [],
   "source": [
    "#複製18_4\n",
    "frame1.info() "
   ]
  },
  {
   "cell_type": "code",
   "execution_count": null,
   "metadata": {},
   "outputs": [],
   "source": [
    "#Series\n",
    "frame1['區域別']"
   ]
  },
  {
   "cell_type": "code",
   "execution_count": null,
   "metadata": {},
   "outputs": [],
   "source": [
    "#2:08:04\n",
    "for item in frame1['區域別']:\n",
    "    print(f'台灣-{item}')"
   ]
  },
  {
   "cell_type": "code",
   "execution_count": null,
   "metadata": {},
   "outputs": [],
   "source": [
    "#2:13:15觀念講解\n",
    "def abc(v):\n",
    "    return f'台灣-{v}'     #f''字串差補\n",
    "\n",
    "frame1['區域別'].map(abc)   #Series傳出全新的"
   ]
  }
 ],
 "metadata": {
  "kernelspec": {
   "display_name": "Python 3",
   "language": "python",
   "name": "python3"
  },
  "language_info": {
   "codemirror_mode": {
    "name": "ipython",
    "version": 3
   },
   "file_extension": ".py",
   "mimetype": "text/x-python",
   "name": "python",
   "nbconvert_exporter": "python",
   "pygments_lexer": "ipython3",
   "version": "3.10.14"
  }
 },
 "nbformat": 4,
 "nbformat_minor": 2
}
