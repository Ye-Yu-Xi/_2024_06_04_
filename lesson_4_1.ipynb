{
 "cells": [
  {
   "cell_type": "code",
   "execution_count": 2,
   "metadata": {},
   "outputs": [
    {
     "name": "stdout",
     "output_type": "stream",
     "text": [
      "程式結束\n"
     ]
    }
   ],
   "source": [
    "a=17\n",
    "if a >18:\n",
    "    print(\"您的age是:\")\n",
    "    print(\"18\")\n",
    "\n",
    "print(\"程式結束\")"
   ]
  },
  {
   "cell_type": "code",
   "execution_count": 4,
   "metadata": {},
   "outputs": [
    {
     "name": "stdout",
     "output_type": "stream",
     "text": [
      "學生分數是302\n"
     ]
    }
   ],
   "source": [
    "#單項選擇\n",
    "#學生總分為300\n",
    "#有些學生可以加分5%\n",
    "score=int(input(\"請輸入學生分數(最高300分):\"))\n",
    "is_add= input(\"學生是否符合加分條件?(y,n)\")\n",
    "\n",
    "if(is_add == \"y\"):\n",
    "    score *=1.05\n",
    "\n",
    "print(f\"學生分數是{round(score)}\")"
   ]
  },
  {
   "cell_type": "code",
   "execution_count": null,
   "metadata": {},
   "outputs": [
    {
     "name": "stdout",
     "output_type": "stream",
     "text": [
      "學生分數是286\n"
     ]
    }
   ],
   "source": [
    "#多項選擇，巢狀判斷\n",
    "#學生總分為300\n",
    "#有些學生可以加分5%\n",
    "#如果加分超過300，就以300分為準\n",
    "score=int(input(\"請輸入學生分數(最高300分):\"))\n",
    "is_add= input(\"學生是否符合加分條件?(y,n)\")\n",
    "\n",
    "if(is_add == \"y\"):\n",
    "    score *=1.05\n",
    "    if score>300:\n",
    "        score=300\n",
    "\n",
    "print(f\"學生分數是{round(score)}\")"
   ]
  },
  {
   "cell_type": "code",
   "execution_count": 5,
   "metadata": {},
   "outputs": [
    {
     "name": "stdout",
     "output_type": "stream",
     "text": [
      "格式錯誤\n"
     ]
    }
   ],
   "source": [
    "#雙向選擇:兩個只會執行其中一個\n",
    "#學生總分為300\n",
    "#有些學生可以加分5%\n",
    "#如果加分超過300，就以300分為準\n",
    "try:\n",
    "    score=int(input(\"請輸入學生分數(最高300分):\"))\n",
    "    if score <= 300:\n",
    "        is_add= input(\"學生是否符合加分條件?(y,n)\")\n",
    "\n",
    "        if(is_add == \"y\"):\n",
    "            score *=1.05\n",
    "            if score>300:\n",
    "                score=300\n",
    "\n",
    "        print(f\"學生分數是{round(score)}\")\n",
    "    else:\n",
    "        print(\"學生分數不可大於300\")\n",
    "except:\n",
    "    print(\"格式錯誤\")"
   ]
  },
  {
   "cell_type": "code",
   "execution_count": null,
   "metadata": {},
   "outputs": [
    {
     "name": "stdout",
     "output_type": "stream",
     "text": [
      "及格\n"
     ]
    }
   ],
   "source": [
    "#雙向選擇:兩個只會執行其中一個\n",
    "score=int(input(\"請輸入學生分數(0~100):\"))\n",
    "if score>=60:\n",
    "    print('及格')\n",
    "else:\n",
    "    print('不及格')"
   ]
  },
  {
   "cell_type": "code",
   "execution_count": 2,
   "metadata": {},
   "outputs": [
    {
     "name": "stdout",
     "output_type": "stream",
     "text": [
      "輸入格式錯誤\n"
     ]
    }
   ],
   "source": [
    "#專門用來檢查 誰rais了錯誤 就是丟出錯誤\n",
    "try:\n",
    "    money=int(input(\"請輸入金額:\"))\n",
    "except:\n",
    "    print(\"輸入格式錯誤\")"
   ]
  }
 ],
 "metadata": {
  "kernelspec": {
   "display_name": "Python 3",
   "language": "python",
   "name": "python3"
  },
  "language_info": {
   "codemirror_mode": {
    "name": "ipython",
    "version": 3
   },
   "file_extension": ".py",
   "mimetype": "text/x-python",
   "name": "python",
   "nbconvert_exporter": "python",
   "pygments_lexer": "ipython3",
   "version": "3.10.14"
  }
 },
 "nbformat": 4,
 "nbformat_minor": 2
}
