{
 "cells": [
  {
   "cell_type": "code",
   "execution_count": 5,
   "metadata": {},
   "outputs": [],
   "source": [
    "import random\n",
    "def get_score() -> list:       #會取得1個學生的分數\n",
    "    score = []\n",
    "    for i in range(5):\n",
    "        score.append(random.randint(50, 100))   #list裡有個實體方法append\n",
    "    return score\n",
    "\n",
    "def get_names(nums:int) -> list:  #會取得所有學生的名稱\n",
    "    with open('names.txt',encoding='utf-8',newline='') as file:\n",
    "        names_str = file.read()\n",
    "        all_names_list = names_str.split(sep=\"\\n\")\n",
    "        names_list = random.choices(all_names_list,k=nums_int) #取出一定數量的姓名\n",
    "        return names_list"
   ]
  },
  {
   "cell_type": "code",
   "execution_count": 7,
   "metadata": {},
   "outputs": [
    {
     "data": {
      "text/plain": [
       "[['李進慧', 97, 58, 78, 64, 64],\n",
       " ['李淑芳', 60, 74, 88, 95, 97],\n",
       " ['戴萱能', 85, 69, 70, 91, 55],\n",
       " ['王人仰', 83, 82, 66, 61, 65],\n",
       " ['李政白', 61, 81, 66, 77, 88],\n",
       " ['陳文賢', 53, 93, 52, 77, 75],\n",
       " ['林玉佩', 54, 97, 52, 60, 82],\n",
       " ['藍姿婷', 52, 99, 98, 78, 71],\n",
       " ['陳姵彬', 92, 63, 87, 60, 64],\n",
       " ['張伊映', 93, 61, 51, 85, 53]]"
      ]
     },
     "execution_count": 7,
     "metadata": {},
     "output_type": "execute_result"
    }
   ],
   "source": [
    "nums_int =int(input(\"請輸入學生數:\"))\n",
    "#取得nums_int個姓名\n",
    "names_list = get_names(nums_int)\n",
    "students = []\n",
    "for i in range(nums_int):\n",
    "    scores = get_score()\n",
    "    new_list = [names_list[i]] + scores\n",
    "    students.append(new_list)\n",
    "students"
   ]
  }
 ],
 "metadata": {
  "kernelspec": {
   "display_name": "Python 3",
   "language": "python",
   "name": "python3"
  },
  "language_info": {
   "codemirror_mode": {
    "name": "ipython",
    "version": 3
   },
   "file_extension": ".py",
   "mimetype": "text/x-python",
   "name": "python",
   "nbconvert_exporter": "python",
   "pygments_lexer": "ipython3",
   "version": "3.10.14"
  }
 },
 "nbformat": 4,
 "nbformat_minor": 2
}
