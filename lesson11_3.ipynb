{
 "cells": [
  {
   "cell_type": "code",
   "execution_count": 5,
   "metadata": {},
   "outputs": [],
   "source": [
    "import random\n",
    "def get_score() -> list:       #會取得1個學生的分數\n",
    "    score = []\n",
    "    for i in range(5):\n",
    "        score.append(random.randint(50, 100))   #list裡有個實體方法append\n",
    "    return score\n",
    "\n",
    "def get_names(nums:int) -> list:  #會取得所有學生的名稱\n",
    "    with open('names.txt',encoding='utf-8',newline='') as file:\n",
    "        names_str = file.read()\n",
    "        all_names_list = names_str.split(sep=\"\\n\")\n",
    "        names_list = random.choices(all_names_list,k=nums_int) #取出一定數量的姓名\n",
    "        return names_list"
   ]
  },
  {
   "cell_type": "code",
   "execution_count": 11,
   "metadata": {},
   "outputs": [
    {
     "data": {
      "text/plain": [
       "[['溫法堯', 60, 56, 64, 63, 54],\n",
       " ['黎惠雯', 97, 80, 69, 51, 63],\n",
       " ['吳欣書', 75, 95, 54, 96, 93],\n",
       " ['林建勳', 54, 53, 55, 60, 96],\n",
       " ['艾巧夫', 80, 56, 74, 58, 97],\n",
       " ['盧冠發', 100, 65, 83, 80, 92],\n",
       " ['陳彥治', 85, 59, 94, 65, 63],\n",
       " ['蒙淑惠', 90, 85, 77, 58, 93],\n",
       " ['張伊映', 96, 93, 65, 74, 92],\n",
       " ['李淑芳', 97, 56, 63, 89, 91],\n",
       " ['蔡明平', 84, 67, 69, 81, 91],\n",
       " ['謝貞妃', 57, 75, 50, 67, 61],\n",
       " ['潘英迪', 72, 81, 82, 90, 57],\n",
       " ['黃靜怡', 96, 54, 83, 75, 51],\n",
       " ['賴又琦', 95, 88, 97, 86, 79],\n",
       " ['陳逸華', 93, 68, 90, 55, 73],\n",
       " ['林佳人', 56, 83, 89, 62, 56],\n",
       " ['朱彥志', 80, 65, 78, 93, 53],\n",
       " ['溫法堯', 94, 87, 95, 71, 72],\n",
       " ['張軒宸', 68, 75, 85, 64, 71],\n",
       " ['唐翊修', 65, 72, 58, 58, 56],\n",
       " ['郭淑真', 83, 65, 52, 56, 64],\n",
       " ['馮芳如', 93, 70, 51, 94, 77],\n",
       " ['魏秋萍', 83, 88, 75, 66, 85],\n",
       " ['周芷蓁', 61, 54, 94, 50, 91],\n",
       " ['劉嘉泰', 50, 98, 56, 67, 91],\n",
       " ['黃旻林', 83, 61, 73, 58, 90],\n",
       " ['姜琬婷', 99, 55, 77, 86, 80],\n",
       " ['李淑芳', 59, 57, 78, 77, 91],\n",
       " ['陳姵彬', 64, 92, 51, 79, 54],\n",
       " ['張嘉韋', 100, 99, 96, 68, 60],\n",
       " ['崔孝憲', 53, 79, 51, 98, 88],\n",
       " ['黃靜怡', 85, 81, 57, 92, 97],\n",
       " ['謝貞妃', 89, 76, 80, 63, 59],\n",
       " ['胡姿婷', 64, 84, 59, 67, 84],\n",
       " ['黃淑芬', 51, 89, 54, 100, 85],\n",
       " ['周怡啟', 79, 84, 51, 54, 78],\n",
       " ['許芳如', 91, 81, 99, 87, 58],\n",
       " ['錢佩豪', 95, 72, 59, 77, 71],\n",
       " ['尚偉倫', 55, 66, 62, 94, 71],\n",
       " ['黃詩妃', 63, 100, 88, 84, 50],\n",
       " ['楊綺芬', 56, 75, 65, 85, 66],\n",
       " ['鄧亭聿', 62, 76, 76, 67, 96],\n",
       " ['陳冠霞', 91, 54, 66, 85, 58],\n",
       " ['劉慧君', 60, 78, 85, 58, 92],\n",
       " ['吳柏誠', 98, 72, 69, 63, 99],\n",
       " ['游淑惠', 61, 64, 70, 68, 100],\n",
       " ['童建霖', 56, 90, 66, 85, 50],\n",
       " ['沈心利', 57, 99, 96, 52, 61],\n",
       " ['蔡至剛', 50, 60, 73, 76, 56]]"
      ]
     },
     "execution_count": 11,
     "metadata": {},
     "output_type": "execute_result"
    }
   ],
   "source": [
    "nums_int =int(input(\"請輸入學生數:\"))\n",
    "#取得nums_int個姓名\n",
    "names_list = get_names(nums_int)\n",
    "students = []\n",
    "for i in range(nums_int):\n",
    "    scores = get_score()\n",
    "    new_list = [names_list[i]] + scores\n",
    "    students.append(new_list)\n",
    "students"
   ]
  },
  {
   "cell_type": "code",
   "execution_count": 12,
   "metadata": {},
   "outputs": [
    {
     "name": "stdout",
     "output_type": "stream",
     "text": [
      "存檔成功\n"
     ]
    }
   ],
   "source": [
    "#UC筆記:承上面的程式區塊\n",
    "import csv\n",
    "#將2維list儲存為csv檔\n",
    "fileName = input(\"請輸入檔案名:(csv)\")\n",
    "with open(f'{fileName}.csv',mode='w',encoding='utf-8', newline='') as file:\n",
    "    csv_writer = csv.writer(file)\n",
    "    csv_writer.writerows(students)\n",
    "\n",
    "print(\"存檔成功\")"
   ]
  }
 ],
 "metadata": {
  "kernelspec": {
   "display_name": "Python 3",
   "language": "python",
   "name": "python3"
  },
  "language_info": {
   "codemirror_mode": {
    "name": "ipython",
    "version": 3
   },
   "file_extension": ".py",
   "mimetype": "text/x-python",
   "name": "python",
   "nbconvert_exporter": "python",
   "pygments_lexer": "ipython3",
   "version": "3.10.14"
  }
 },
 "nbformat": 4,
 "nbformat_minor": 2
}
