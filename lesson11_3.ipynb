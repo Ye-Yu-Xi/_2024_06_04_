{
 "cells": [
  {
   "cell_type": "code",
   "execution_count": 1,
   "metadata": {},
   "outputs": [],
   "source": [
    "import random\n",
    "def get_score() -> list:       #會取得1個學生的分數\n",
    "    score = []\n",
    "    for i in range(5):\n",
    "        score.append(random.randint(50, 100))   #list裡有個實體方法append\n",
    "    return score\n",
    "\n",
    "def get_names(nums:int) -> list:  #會取得所有學生的名稱\n",
    "    with open('names.txt',encoding='utf-8',newline='') as file:\n",
    "        names_str = file.read()\n",
    "        all_names_list = names_str.split(sep=\"\\n\")\n",
    "        names_list = random.choices(all_names_list,k=nums) #取出一定數量的姓名\n",
    "        return names_list"
   ]
  },
  {
   "cell_type": "code",
   "execution_count": 2,
   "metadata": {},
   "outputs": [
    {
     "data": {
      "text/plain": [
       "[['林向鈺', 68, 57, 68, 55, 74],\n",
       " ['朱惠儀', 73, 76, 69, 61, 97],\n",
       " ['陳志偉', 91, 51, 51, 95, 60],\n",
       " ['錢佩豪', 84, 84, 82, 75, 79],\n",
       " ['簡國瑋', 70, 90, 100, 69, 98],\n",
       " ['翁均安', 72, 94, 71, 52, 66],\n",
       " ['元延辛', 98, 67, 67, 79, 71],\n",
       " ['黃婷婷', 70, 75, 79, 71, 99],\n",
       " ['胡姿婷', 59, 76, 98, 73, 74],\n",
       " ['楊健麟', 50, 71, 64, 69, 87],\n",
       " ['陳逸凡', 61, 92, 53, 88, 95],\n",
       " ['黃雅慧', 83, 96, 99, 99, 86],\n",
       " ['高智超', 90, 94, 71, 57, 68],\n",
       " ['劉依婷', 91, 86, 71, 79, 52],\n",
       " ['孫宜珊', 61, 97, 79, 67, 74],\n",
       " ['賴心怡', 64, 89, 69, 76, 65],\n",
       " ['林昱芳', 71, 98, 100, 100, 56],\n",
       " ['方雅慧', 78, 83, 54, 63, 58],\n",
       " ['鄭佳玲', 85, 90, 56, 54, 98],\n",
       " ['游治旺', 79, 78, 96, 86, 76],\n",
       " ['藍哲嘉', 87, 96, 100, 100, 69],\n",
       " ['黃靜怡', 50, 61, 66, 67, 91],\n",
       " ['黃詩妃', 61, 62, 81, 89, 74],\n",
       " ['蕭怡伶', 71, 58, 88, 96, 51],\n",
       " ['黃嘉琪', 59, 85, 61, 71, 65],\n",
       " ['李慈啟', 72, 98, 66, 70, 99],\n",
       " ['陳建香', 67, 62, 78, 83, 83],\n",
       " ['鄭憲定', 89, 84, 56, 72, 85],\n",
       " ['黃心航', 82, 56, 75, 92, 50],\n",
       " ['林建宏', 54, 97, 87, 82, 73],\n",
       " ['林向鈺', 68, 78, 96, 52, 90],\n",
       " ['陳逸華', 95, 71, 92, 75, 84],\n",
       " ['余宗儒', 76, 72, 64, 56, 58],\n",
       " ['謝水儒', 61, 96, 58, 87, 80],\n",
       " ['王明昇', 82, 61, 92, 54, 85],\n",
       " ['陳嘉淑', 78, 58, 69, 73, 66],\n",
       " ['張莉雯', 59, 50, 58, 97, 74],\n",
       " ['陳彥治', 99, 80, 69, 64, 64],\n",
       " ['張俊傑', 74, 59, 84, 54, 65],\n",
       " ['羅幸娥', 61, 65, 57, 55, 88],\n",
       " ['張凡成', 57, 90, 86, 76, 91],\n",
       " ['黃翔杰', 83, 90, 100, 52, 54],\n",
       " ['郭坤花', 77, 99, 79, 90, 53],\n",
       " ['游治旺', 91, 79, 62, 100, 100],\n",
       " ['王雅琴', 63, 51, 77, 86, 73],\n",
       " ['吳昕婷', 65, 72, 59, 56, 90],\n",
       " ['黃偉剛', 64, 70, 78, 54, 56],\n",
       " ['邱亭君', 100, 89, 93, 50, 87],\n",
       " ['王怡君', 84, 90, 99, 65, 89],\n",
       " ['鄭孟芳', 53, 85, 85, 60, 81]]"
      ]
     },
     "execution_count": 2,
     "metadata": {},
     "output_type": "execute_result"
    }
   ],
   "source": [
    "nums_int =int(input(\"請輸入學生數:\"))\n",
    "#取得nums_int個姓名\n",
    "names_list = get_names(nums_int)\n",
    "students = []\n",
    "for i in range(nums_int):\n",
    "    scores = get_score()\n",
    "    new_list = [names_list[i]] + scores\n",
    "    students.append(new_list)\n",
    "students"
   ]
  },
  {
   "cell_type": "code",
   "execution_count": 3,
   "metadata": {},
   "outputs": [
    {
     "name": "stdout",
     "output_type": "stream",
     "text": [
      "存檔成功\n"
     ]
    }
   ],
   "source": [
    "#UC筆記:承上面的程式區塊\n",
    "import csv\n",
    "#將2維list儲存為csv檔\n",
    "fileName = input(\"請輸入檔案名:(csv)\")\n",
    "with open(f'{fileName}.csv',mode='w',encoding='utf-8', newline='') as file:\n",
    "    csv_writer = csv.writer(file)     #writer是funtion\n",
    "    csv_writer.writerow(['姓名', '國文', '英文', '數學', '地理', '歷史'])\n",
    "    csv_writer.writerows(students)      #實體方法是writerows\n",
    "\n",
    "print(\"存檔成功\")"
   ]
  },
  {
   "cell_type": "code",
   "execution_count": 4,
   "metadata": {},
   "outputs": [],
   "source": [
    "#看到2:34:25"
   ]
  }
 ],
 "metadata": {
  "kernelspec": {
   "display_name": "Python 3",
   "language": "python",
   "name": "python3"
  },
  "language_info": {
   "codemirror_mode": {
    "name": "ipython",
    "version": 3
   },
   "file_extension": ".py",
   "mimetype": "text/x-python",
   "name": "python",
   "nbconvert_exporter": "python",
   "pygments_lexer": "ipython3",
   "version": "3.10.14"
  }
 },
 "nbformat": 4,
 "nbformat_minor": 2
}
