{
 "cells": [
  {
   "cell_type": "code",
   "execution_count": 9,
   "metadata": {},
   "outputs": [],
   "source": [
    "import random\n",
    "def get_score() -> list:       #會取得1個學生的分數\n",
    "    score = []\n",
    "    for i in range(5):\n",
    "        score.append(random.randint(50, 100))   #list裡有個實體方法append\n",
    "    return score\n",
    "\n",
    "def get_names(nums:int) -> list:  #會取得所有學生的名稱\n",
    "    with open('names.txt',encoding='utf-8',newline='') as file:\n",
    "        names_str = file.read()\n",
    "        all_names_list = names_str.split(sep=\"\\n\")\n",
    "        names_list = random.choices(all_names_list,k=nums_int) #取出一定數量的姓名\n",
    "        return names_list"
   ]
  },
  {
   "cell_type": "code",
   "execution_count": 10,
   "metadata": {},
   "outputs": [
    {
     "data": {
      "text/plain": [
       "[['陳志偉', 73, 79, 82, 69, 56],\n",
       " ['鍾俞禎', 52, 97, 67, 99, 56],\n",
       " ['朱彥志', 68, 67, 69, 82, 73],\n",
       " ['鞠冠宇', 74, 100, 83, 69, 52],\n",
       " ['周芷蓁', 93, 77, 99, 52, 81],\n",
       " ['陳信念', 63, 97, 63, 91, 77],\n",
       " ['陳怡容', 62, 53, 74, 92, 79],\n",
       " ['葉軍仰', 97, 83, 64, 60, 92],\n",
       " ['楊少亮', 89, 97, 75, 67, 82],\n",
       " ['林佳光', 93, 89, 100, 60, 78],\n",
       " ['張明惟', 96, 68, 63, 99, 88],\n",
       " ['黃奎紹', 57, 76, 85, 90, 72],\n",
       " ['孫宜珊', 100, 56, 86, 51, 82],\n",
       " ['游淑惠', 70, 81, 56, 68, 63],\n",
       " ['盧冠發', 52, 65, 93, 89, 54],\n",
       " ['林珍旺', 85, 97, 83, 73, 72],\n",
       " ['朱惠儀', 88, 74, 88, 83, 58],\n",
       " ['吳柏誠', 50, 57, 62, 100, 64],\n",
       " ['吳淑惠', 65, 100, 51, 96, 90],\n",
       " ['鄭憲定', 96, 65, 54, 64, 55],\n",
       " ['陳筱涵', 52, 78, 56, 99, 62],\n",
       " ['張凡成', 65, 92, 73, 91, 85],\n",
       " ['唐雪豪', 98, 58, 61, 90, 65],\n",
       " ['溫法堯', 94, 100, 69, 75, 74],\n",
       " ['郎慧萍', 50, 88, 93, 63, 61],\n",
       " ['黃詩妃', 67, 88, 56, 78, 93],\n",
       " ['陳凱翔', 52, 83, 98, 86, 72],\n",
       " ['唐翊修', 54, 59, 87, 78, 83],\n",
       " ['方筠紹', 90, 61, 95, 96, 63],\n",
       " ['林怡偉', 81, 96, 99, 60, 67],\n",
       " ['賴佳雯', 83, 91, 58, 84, 69],\n",
       " ['李美洋', 52, 83, 52, 81, 52],\n",
       " ['蔡欣汝', 80, 71, 68, 96, 61],\n",
       " ['彭虹屏', 99, 90, 98, 61, 82],\n",
       " ['陳慧君', 87, 62, 71, 86, 75],\n",
       " ['劉耿琦', 82, 96, 67, 90, 96],\n",
       " ['陳冠竹', 55, 87, 63, 52, 72],\n",
       " ['李湘婷', 65, 79, 67, 79, 82],\n",
       " ['林冠蕙', 87, 66, 75, 67, 79],\n",
       " ['黃心航', 98, 86, 89, 65, 78],\n",
       " ['謝佳穎', 65, 98, 72, 94, 84],\n",
       " ['黃江旭', 86, 50, 54, 62, 80],\n",
       " ['梁柏宇', 83, 73, 77, 88, 54],\n",
       " ['許淑婷', 87, 92, 61, 91, 65],\n",
       " ['王士銘', 55, 78, 57, 96, 73],\n",
       " ['劉嘉泰', 68, 74, 88, 76, 93],\n",
       " ['謝佳穎', 56, 73, 97, 89, 98],\n",
       " ['賴昌韻', 60, 59, 74, 55, 64],\n",
       " ['高智超', 77, 55, 56, 69, 72],\n",
       " ['賴佳雯', 63, 82, 97, 58, 75]]"
      ]
     },
     "execution_count": 10,
     "metadata": {},
     "output_type": "execute_result"
    }
   ],
   "source": [
    "nums_int =int(input(\"請輸入學生數:\"))\n",
    "#取得nums_int個姓名\n",
    "names_list = get_names(nums_int)\n",
    "students = []\n",
    "for i in range(nums_int):\n",
    "    scores = get_score()\n",
    "    new_list = [names_list[i]] + scores\n",
    "    students.append(new_list)\n",
    "students"
   ]
  },
  {
   "cell_type": "code",
   "execution_count": 11,
   "metadata": {},
   "outputs": [
    {
     "name": "stdout",
     "output_type": "stream",
     "text": [
      "存檔成功\n"
     ]
    }
   ],
   "source": [
    "#UC筆記:承上面的程式區塊\n",
    "import csv\n",
    "#將2維list儲存為csv檔\n",
    "fileName = input(\"請輸入檔案名:(csv)\")\n",
    "with open(f'{fileName}.csv',mode='w',encoding='utf-8', newline='') as file:\n",
    "    csv_writer = csv.writer(file)     #writer是funtion\n",
    "    csv_writer.writerow(['姓名', '國文', '英文', '數學', '地理', '歷史'])\n",
    "    csv_writer.writerows(students)      #實體方法是writerows\n",
    "\n",
    "print(\"存檔成功\")"
   ]
  },
  {
   "cell_type": "code",
   "execution_count": 12,
   "metadata": {},
   "outputs": [],
   "source": [
    "#看到2:34:25"
   ]
  }
 ],
 "metadata": {
  "kernelspec": {
   "display_name": "Python 3",
   "language": "python",
   "name": "python3"
  },
  "language_info": {
   "codemirror_mode": {
    "name": "ipython",
    "version": 3
   },
   "file_extension": ".py",
   "mimetype": "text/x-python",
   "name": "python",
   "nbconvert_exporter": "python",
   "pygments_lexer": "ipython3",
   "version": "3.10.14"
  }
 },
 "nbformat": 4,
 "nbformat_minor": 2
}
