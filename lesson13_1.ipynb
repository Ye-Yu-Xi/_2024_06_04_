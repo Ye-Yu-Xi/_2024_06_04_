{
 "cells": [
  {
   "cell_type": "code",
   "execution_count": 5,
   "metadata": {},
   "outputs": [],
   "source": [
    "class Student:\n",
    "    def __init__(self,name:str,chinese:int,english:int,math:int):  #自訂的initial  #self實體\n",
    "        #實體的attribute\n",
    "        self.name = name         #建立屬性:專門用來儲存資料\n",
    "        self.chinese = chinese\n",
    "        self.english = english\n",
    "        self.math = math\n",
    "    #實體方法method\n",
    "    def total(self)->int:\n",
    "        return self.chinese  + self.english + self.math\n",
    "    #建立property->類似method,沒有參數,一定傳出一個值\n",
    "    @property\n",
    "    def average(self)->float:\n",
    "        return self.total() /3.0\n",
    "\n",
    "    def __repr__(self):\n",
    "        return f\"我是student實體,我的name:{self.name}\""
   ]
  },
  {
   "cell_type": "code",
   "execution_count": 6,
   "metadata": {},
   "outputs": [
    {
     "data": {
      "text/plain": [
       "('葉鈺希', 75, 93, 82)"
      ]
     },
     "metadata": {},
     "output_type": "display_data"
    },
    {
     "data": {
      "text/plain": [
       "(250, 83.33333333333333)"
      ]
     },
     "metadata": {},
     "output_type": "display_data"
    },
    {
     "name": "stdout",
     "output_type": "stream",
     "text": [
      "我是student實體,我的name:葉鈺希\n"
     ]
    }
   ],
   "source": [
    "stu1 = Student('葉鈺希',75, 93, 82)\n",
    "display((stu1.name, stu1.chinese, stu1.english, stu1.math))\n",
    "display((stu1.total(), stu1.average))\n",
    "print(stu1)"
   ]
  },
  {
   "cell_type": "code",
   "execution_count": 7,
   "metadata": {},
   "outputs": [
    {
     "data": {
      "text/plain": [
       "('葉XX', 89, 92, 72)"
      ]
     },
     "metadata": {},
     "output_type": "display_data"
    },
    {
     "data": {
      "text/plain": [
       "(253, 84.33333333333333)"
      ]
     },
     "metadata": {},
     "output_type": "display_data"
    },
    {
     "name": "stdout",
     "output_type": "stream",
     "text": [
      "我是student實體,我的name:葉XX\n"
     ]
    }
   ],
   "source": [
    "stu2 =Student(name='葉XX',chinese=89, english=92, math=72)\n",
    "display((stu2.name, stu2.chinese, stu2.english, stu2.math))\n",
    "display((stu2.total(), stu2.average))\n",
    "print(stu2)"
   ]
  },
  {
   "cell_type": "code",
   "execution_count": 9,
   "metadata": {},
   "outputs": [
    {
     "data": {
      "text/plain": [
       "('張XX', 89, 92, 72)"
      ]
     },
     "execution_count": 9,
     "metadata": {},
     "output_type": "execute_result"
    }
   ],
   "source": [
    "stu3 =Student('張XX',english=92, math=72, chinese=89)   #用引數名稱(english)呼叫可以不依照順序\n",
    "stu3.name, stu3.chinese, stu3.english, stu3.math "
   ]
  }
 ],
 "metadata": {
  "kernelspec": {
   "display_name": "Python 3",
   "language": "python",
   "name": "python3"
  },
  "language_info": {
   "codemirror_mode": {
    "name": "ipython",
    "version": 3
   },
   "file_extension": ".py",
   "mimetype": "text/x-python",
   "name": "python",
   "nbconvert_exporter": "python",
   "pygments_lexer": "ipython3",
   "version": "3.10.14"
  }
 },
 "nbformat": 4,
 "nbformat_minor": 2
}
