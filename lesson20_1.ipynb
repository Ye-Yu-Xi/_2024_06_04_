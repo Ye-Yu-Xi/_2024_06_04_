{
 "cells": [
  {
   "cell_type": "code",
   "execution_count": null,
   "metadata": {},
   "outputs": [],
   "source": [
    "#Series、DataFrame.mean()平均 的應用\n",
    "#Series.map(function) DataFrame.map(function)  DataFrame.apply(function)可以重新建立一個表格(單)"
   ]
  },
  {
   "cell_type": "code",
   "execution_count": null,
   "metadata": {},
   "outputs": [],
   "source": [
    "#Part1=14:05~25:50-到下方4個程式區塊\n",
    "import pandas as pd\n",
    "import numpy as np\n",
    "\n",
    "frame = pd.read_excel('學生成績單.xlsx')\n",
    "frame"
   ]
  },
  {
   "cell_type": "code",
   "execution_count": null,
   "metadata": {},
   "outputs": [],
   "source": [
    "students_frame = frame[['國文', '英文' ,'數學' ,'地理', '歷史']]\n",
    "students_frame"
   ]
  },
  {
   "cell_type": "code",
   "execution_count": null,
   "metadata": {},
   "outputs": [],
   "source": [
    "#mean()平均,std()標準差,max()最大值,min()最小值,median(),corr()相關係數\n",
    "students_frame['國文'].mean()"
   ]
  },
  {
   "cell_type": "code",
   "execution_count": null,
   "metadata": {},
   "outputs": [],
   "source": [
    "students_frame.mean()"
   ]
  },
  {
   "cell_type": "code",
   "execution_count": null,
   "metadata": {},
   "outputs": [],
   "source": [
    "students_frame.mean(axis=1)"
   ]
  },
  {
   "cell_type": "code",
   "execution_count": null,
   "metadata": {},
   "outputs": [],
   "source": [
    "# 30:30 Part2\n",
    "display(students_frame['國文'])  \n",
    "for item in students_frame['國文']:  \n",
    "    if item >=80:\n",
    "        print('優')\n",
    "    elif item >=70:\n",
    "        print('甲')\n",
    "    elif item >=60:\n",
    "        print('乙')\n",
    "    else:\n",
    "        print('丙')\n",
    "#用for in 把分析的值一個個叫出來,但是沒有索引!"
   ]
  },
  {
   "cell_type": "code",
   "execution_count": null,
   "metadata": {},
   "outputs": [],
   "source": [
    "#37:14 ~ 40:20  #Series.map()\n",
    "#用.map()前面要定義一個function #19_5也有用到.map()\n",
    "def fun1(item):\n",
    "    if item >=80:\n",
    "        return'優'\n",
    "    elif item >=70:\n",
    "        return'甲'\n",
    "    elif item >=60:\n",
    "        return'乙'\n",
    "    else:\n",
    "        return'丙'\n",
    "    \n",
    "students_frame['國文'].map(fun1) #有索引,傳出新的Series；前面用for in 叫出的只有分析的值沒有索引,故不是Series\n",
    "#只有Series才能加入frame裡"
   ]
  },
  {
   "cell_type": "code",
   "execution_count": null,
   "metadata": {},
   "outputs": [],
   "source": [
    "# ~42:40\n",
    "students_frame['國文等級'] = students_frame['國文'].map(fun1)\n",
    "students_frame"
   ]
  },
  {
   "cell_type": "code",
   "execution_count": null,
   "metadata": {},
   "outputs": [],
   "source": [
    "#45:40 Part3\n",
    "students_frame = frame[['國文', '英文' ,'數學' ,'地理', '歷史']]\n",
    "students_frame"
   ]
  },
  {
   "cell_type": "code",
   "execution_count": null,
   "metadata": {},
   "outputs": [],
   "source": [
    "#DataFrame.map()~48:13\n",
    "def fun1(item):\n",
    "    if item >=80:\n",
    "        return'優'\n",
    "    elif item >=70:\n",
    "        return'甲'\n",
    "    elif item >=60:\n",
    "        return'乙'\n",
    "    else:\n",
    "        return'丙'\n",
    "students_frame.map(fun1)"
   ]
  },
  {
   "cell_type": "code",
   "execution_count": null,
   "metadata": {},
   "outputs": [],
   "source": [
    "#50:46(中間有觀念講解)\n",
    "def fun2(s):\n",
    "    return s.min()      #結果是傳出Series / 傳出的國文、英文、數學、地理、歷史是索引\n",
    "\n",
    "students_frame.apply(fun2)"
   ]
  },
  {
   "cell_type": "code",
   "execution_count": null,
   "metadata": {},
   "outputs": [],
   "source": [
    "#57:40\n",
    "def fun3(s):\n",
    "    return s[s < 60].count()   #s[s < 60]傳出Series,count()計算不及格的數量\n",
    "students_frame.apply(fun3,axis=1)"
   ]
  },
  {
   "cell_type": "code",
   "execution_count": null,
   "metadata": {},
   "outputs": [],
   "source": [
    "#59:50~1:00:35\n",
    "students_frame[\"不及格科目數量\"] = students_frame.apply(fun3,axis=1)\n",
    "students_frame"
   ]
  },
  {
   "cell_type": "code",
   "execution_count": null,
   "metadata": {},
   "outputs": [],
   "source": [
    "#1:06:\n",
    "students_frame = frame[['國文', '英文' ,'數學' ,'地理', '歷史']]\n",
    "students_frame"
   ]
  }
 ],
 "metadata": {
  "kernelspec": {
   "display_name": "Python 3",
   "language": "python",
   "name": "python3"
  },
  "language_info": {
   "codemirror_mode": {
    "name": "ipython",
    "version": 3
   },
   "file_extension": ".py",
   "mimetype": "text/x-python",
   "name": "python",
   "nbconvert_exporter": "python",
   "pygments_lexer": "ipython3",
   "version": "3.10.14"
  }
 },
 "nbformat": 4,
 "nbformat_minor": 2
}
