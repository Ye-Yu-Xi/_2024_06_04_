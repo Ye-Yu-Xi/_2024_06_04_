{
 "cells": [
  {
   "cell_type": "code",
   "execution_count": null,
   "metadata": {},
   "outputs": [],
   "source": [
    "# mean()平均 DataFrame Series"
   ]
  },
  {
   "cell_type": "code",
   "execution_count": null,
   "metadata": {},
   "outputs": [],
   "source": [
    "#14:05~25:50-到下方4個程式區塊\n",
    "import pandas as pd\n",
    "import numpy as np\n",
    "\n",
    "frame = pd.read_excel('學生成績單.xlsx')\n",
    "frame"
   ]
  },
  {
   "cell_type": "code",
   "execution_count": null,
   "metadata": {},
   "outputs": [],
   "source": [
    "student_frame = frame[['國文', '英文' ,'數學' ,'地理', '歷史']]\n",
    "student_frame"
   ]
  },
  {
   "cell_type": "code",
   "execution_count": null,
   "metadata": {},
   "outputs": [],
   "source": [
    "#mean()平均,std()標準差,max()最大值,min()最小值,median(),corr()相關係數\n",
    "student_frame['國文'].mean()"
   ]
  },
  {
   "cell_type": "code",
   "execution_count": null,
   "metadata": {},
   "outputs": [],
   "source": [
    "student_frame.mean()"
   ]
  },
  {
   "cell_type": "code",
   "execution_count": null,
   "metadata": {},
   "outputs": [],
   "source": [
    "student_frame.mean(axis=1)"
   ]
  },
  {
   "cell_type": "code",
   "execution_count": null,
   "metadata": {},
   "outputs": [
    {
     "data": {
      "text/plain": [
       "0     89\n",
       "1     90\n",
       "2     88\n",
       "3     95\n",
       "4     69\n",
       "5     97\n",
       "6     85\n",
       "7     97\n",
       "8     98\n",
       "9     91\n",
       "10    93\n",
       "11    78\n",
       "12    90\n",
       "13    90\n",
       "14    61\n",
       "15    74\n",
       "16    76\n",
       "17    95\n",
       "18    60\n",
       "19    86\n",
       "20    70\n",
       "21    54\n",
       "22    86\n",
       "23    77\n",
       "24    68\n",
       "25    73\n",
       "26    95\n",
       "27    66\n",
       "28    59\n",
       "29    84\n",
       "30    86\n",
       "31    93\n",
       "32    90\n",
       "33    65\n",
       "34    51\n",
       "35    65\n",
       "36    78\n",
       "37    75\n",
       "38    59\n",
       "39    97\n",
       "40    91\n",
       "41    76\n",
       "42    66\n",
       "43    65\n",
       "44    50\n",
       "45    71\n",
       "46    60\n",
       "47    57\n",
       "48    57\n",
       "49    60\n",
       "Name: 國文, dtype: int64"
      ]
     },
     "metadata": {},
     "output_type": "display_data"
    },
    {
     "name": "stdout",
     "output_type": "stream",
     "text": [
      "優\n",
      "優\n",
      "優\n",
      "優\n",
      "乙\n",
      "優\n",
      "優\n",
      "優\n",
      "優\n",
      "優\n",
      "優\n",
      "甲\n",
      "優\n",
      "優\n",
      "乙\n",
      "甲\n",
      "甲\n",
      "優\n",
      "乙\n",
      "優\n",
      "甲\n",
      "丙\n",
      "優\n",
      "甲\n",
      "乙\n",
      "甲\n",
      "優\n",
      "乙\n",
      "丙\n",
      "優\n",
      "優\n",
      "優\n",
      "優\n",
      "乙\n",
      "丙\n",
      "乙\n",
      "甲\n",
      "甲\n",
      "丙\n",
      "優\n",
      "優\n",
      "甲\n",
      "乙\n",
      "乙\n",
      "丙\n",
      "甲\n",
      "乙\n",
      "丙\n",
      "丙\n",
      "乙\n"
     ]
    }
   ],
   "source": [
    "#30:30~42:40\n",
    "display(student_frame['國文'])  \n",
    "for item in student_frame['國文']:  \n",
    "    if item >=80:\n",
    "        print('優')\n",
    "    elif item >=70:\n",
    "        print('甲')\n",
    "    elif item >=60:\n",
    "        print('乙')\n",
    "    else:\n",
    "        print('丙')\n",
    "#用for in 把分析的值一個個叫出來,但是沒有索引!"
   ]
  },
  {
   "cell_type": "code",
   "execution_count": null,
   "metadata": {},
   "outputs": [
    {
     "data": {
      "text/plain": [
       "0     優\n",
       "1     優\n",
       "2     優\n",
       "3     優\n",
       "4     乙\n",
       "5     優\n",
       "6     優\n",
       "7     優\n",
       "8     優\n",
       "9     優\n",
       "10    優\n",
       "11    甲\n",
       "12    優\n",
       "13    優\n",
       "14    乙\n",
       "15    甲\n",
       "16    甲\n",
       "17    優\n",
       "18    乙\n",
       "19    優\n",
       "20    甲\n",
       "21    丙\n",
       "22    優\n",
       "23    甲\n",
       "24    乙\n",
       "25    甲\n",
       "26    優\n",
       "27    乙\n",
       "28    丙\n",
       "29    優\n",
       "30    優\n",
       "31    優\n",
       "32    優\n",
       "33    乙\n",
       "34    丙\n",
       "35    乙\n",
       "36    甲\n",
       "37    甲\n",
       "38    丙\n",
       "39    優\n",
       "40    優\n",
       "41    甲\n",
       "42    乙\n",
       "43    乙\n",
       "44    丙\n",
       "45    甲\n",
       "46    乙\n",
       "47    丙\n",
       "48    丙\n",
       "49    乙\n",
       "Name: 國文, dtype: object"
      ]
     },
     "execution_count": 12,
     "metadata": {},
     "output_type": "execute_result"
    }
   ],
   "source": [
    "#37:14\n",
    "def fun1(item):\n",
    "    if item >=80:\n",
    "        return'優'\n",
    "    elif item >=70:\n",
    "        return'甲'\n",
    "    elif item >=60:\n",
    "        return'乙'\n",
    "    else:\n",
    "        return'丙'\n",
    "student_frame['國文'].map(fun1) #有索引,故傳出新的Series "
   ]
  }
 ],
 "metadata": {
  "kernelspec": {
   "display_name": "Python 3",
   "language": "python",
   "name": "python3"
  },
  "language_info": {
   "codemirror_mode": {
    "name": "ipython",
    "version": 3
   },
   "file_extension": ".py",
   "mimetype": "text/x-python",
   "name": "python",
   "nbconvert_exporter": "python",
   "pygments_lexer": "ipython3",
   "version": "3.10.14"
  }
 },
 "nbformat": 4,
 "nbformat_minor": 2
}
